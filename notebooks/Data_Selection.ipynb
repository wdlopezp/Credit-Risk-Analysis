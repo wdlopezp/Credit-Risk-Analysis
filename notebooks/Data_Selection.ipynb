{
 "cells": [
  {
   "cell_type": "markdown",
   "source": [
    "# Exploratory Data Analysis Part 1: Data Selection"
   ],
   "metadata": {
    "collapsed": false
   }
  },
  {
   "cell_type": "code",
   "execution_count": 55,
   "metadata": {
    "collapsed": true
   },
   "outputs": [],
   "source": [
    "# Libraries importing\n",
    "import pandas as pd"
   ]
  },
  {
   "cell_type": "code",
   "execution_count": 56,
   "outputs": [
    {
     "name": "stderr",
     "output_type": "stream",
     "text": [
      "/tmp/ipykernel_735/1835940254.py:2: DtypeWarning: Columns (51,52) have mixed types. Specify dtype option on import or set low_memory=False.\n",
      "  data = pd.read_csv('../data/PAKDD2010_Modeling_Data.txt',\n"
     ]
    }
   ],
   "source": [
    "# Get training data from .txt file\n",
    "data = pd.read_csv('../data/PAKDD2010_Modeling_Data.txt',\n",
    "                   header=None,\n",
    "                   delimiter='\\t',\n",
    "                   encoding='ISO-8859-1',\n",
    "                   index_col=0\n",
    "                   )"
   ],
   "metadata": {
    "collapsed": false
   }
  },
  {
   "cell_type": "code",
   "execution_count": 57,
   "outputs": [],
   "source": [
    "# Get name and description of data columns\n",
    "var_names = pd.read_excel('../data/PAKDD2010_VariablesList.XLS')"
   ],
   "metadata": {
    "collapsed": false
   }
  },
  {
   "cell_type": "code",
   "execution_count": 58,
   "outputs": [
    {
     "data": {
      "text/plain": "False    53\nTrue      1\nName: Var_Title, dtype: int64"
     },
     "execution_count": 58,
     "metadata": {},
     "output_type": "execute_result"
    }
   ],
   "source": [
    "# Analyze if there are duplicated variable names\n",
    "var_names['Var_Title'].duplicated().value_counts()"
   ],
   "metadata": {
    "collapsed": false
   }
  },
  {
   "cell_type": "code",
   "execution_count": 59,
   "outputs": [],
   "source": [
    "# As there are a variable with the same name that other, let's rename the\n",
    "# second.\n",
    "cols = []\n",
    "for column in var_names['Var_Title'][1:]:     # Isolate ID_CLIENT because it is\n",
    "                                              # used as dataframe index\n",
    "    if column in cols:\n",
    "        count = cols.count(column) + 1\n",
    "        cols.append(f'{column}_{count}')\n",
    "    else:\n",
    "        cols.append(column)"
   ],
   "metadata": {
    "collapsed": false
   }
  },
  {
   "cell_type": "code",
   "execution_count": 60,
   "outputs": [],
   "source": [
    "# Set Var_Title as Columns names for or training dataset\n",
    "data.columns = cols"
   ],
   "metadata": {
    "collapsed": false
   }
  },
  {
   "cell_type": "code",
   "execution_count": 61,
   "outputs": [
    {
     "data": {
      "text/plain": "50000"
     },
     "execution_count": 61,
     "metadata": {},
     "output_type": "execute_result"
    }
   ],
   "source": [
    "data.shape[0]"
   ],
   "metadata": {
    "collapsed": false
   }
  },
  {
   "cell_type": "code",
   "execution_count": 62,
   "outputs": [
    {
     "data": {
      "text/plain": "CLERK_TYPE                            0\nPAYMENT_DAY                           0\nAPPLICATION_SUBMISSION_TYPE           0\nQUANT_ADDITIONAL_CARDS                0\nPOSTAL_ADDRESS_TYPE                   0\nSEX                                   0\nMARITAL_STATUS                        0\nQUANT_DEPENDANTS                      0\nEDUCATION_LEVEL                       0\nSTATE_OF_BIRTH                        0\nCITY_OF_BIRTH                         0\nNACIONALITY                           0\nRESIDENCIAL_STATE                     0\nRESIDENCIAL_CITY                      0\nRESIDENCIAL_BOROUGH                   0\nFLAG_RESIDENCIAL_PHONE                0\nRESIDENCIAL_PHONE_AREA_CODE           0\nRESIDENCE_TYPE                     1349\nMONTHS_IN_RESIDENCE                3777\nFLAG_MOBILE_PHONE                     0\nFLAG_EMAIL                            0\nPERSONAL_MONTHLY_INCOME               0\nOTHER_INCOMES                         0\nFLAG_VISA                             0\nFLAG_MASTERCARD                       0\nFLAG_DINERS                           0\nFLAG_AMERICAN_EXPRESS                 0\nFLAG_OTHER_CARDS                      0\nQUANT_BANKING_ACCOUNTS                0\nQUANT_SPECIAL_BANKING_ACCOUNTS        0\nPERSONAL_ASSETS_VALUE                 0\nQUANT_CARS                            0\nCOMPANY                               0\nPROFESSIONAL_STATE                    0\nPROFESSIONAL_CITY                 33783\nPROFESSIONAL_BOROUGH              33783\nFLAG_PROFESSIONAL_PHONE               0\nPROFESSIONAL_PHONE_AREA_CODE          0\nMONTHS_IN_THE_JOB                     0\nPROFESSION_CODE                    7756\nOCCUPATION_TYPE                    7313\nMATE_PROFESSION_CODE              28884\nEDUCATION_LEVEL_2                 32338\nFLAG_HOME_ADDRESS_DOCUMENT            0\nFLAG_RG                               0\nFLAG_CPF                              0\nFLAG_INCOME_PROOF                     0\nPRODUCT                               0\nFLAG_ACSP_RECORD                      0\nAGE                                   0\nRESIDENCIAL_ZIP_3                     0\nPROFESSIONAL_ZIP_3                    0\nTARGET_LABEL_BAD=1                    0\ndtype: int64"
     },
     "execution_count": 62,
     "metadata": {},
     "output_type": "execute_result"
    }
   ],
   "source": [
    "# Count Null values per column\n",
    "data.isna().sum()"
   ],
   "metadata": {
    "collapsed": false
   }
  },
  {
   "cell_type": "code",
   "execution_count": 63,
   "outputs": [
    {
     "data": {
      "text/plain": "['PROFESSIONAL_CITY',\n 'PROFESSIONAL_BOROUGH',\n 'MATE_PROFESSION_CODE',\n 'EDUCATION_LEVEL_2']"
     },
     "execution_count": 63,
     "metadata": {},
     "output_type": "execute_result"
    }
   ],
   "source": [
    "# Let's drop columns with sum of NaN values greater than the half of the total\n",
    "# number of samples\n",
    "cols_to_drop = list(data.isna().sum()[\n",
    "    data.isna().sum() > data.shape[0]//2].index)\n",
    "cols_to_drop"
   ],
   "metadata": {
    "collapsed": false
   }
  },
  {
   "cell_type": "code",
   "execution_count": 64,
   "outputs": [],
   "source": [
    "# Append columns with just one unique value to dols_to drop as they don't add\n",
    "# value to the analysis\n",
    "for col in data.columns:\n",
    "    if len(data[col].unique()) == 1:\n",
    "        if col not in cols_to_drop:\n",
    "            cols_to_drop.append(col)"
   ],
   "metadata": {
    "collapsed": false
   }
  },
  {
   "cell_type": "code",
   "execution_count": 65,
   "outputs": [
    {
     "name": "stdout",
     "output_type": "stream",
     "text": [
      "The columns to drop before correlation analysis are ['PROFESSIONAL_CITY', 'PROFESSIONAL_BOROUGH', 'MATE_PROFESSION_CODE', 'EDUCATION_LEVEL_2', 'CLERK_TYPE', 'QUANT_ADDITIONAL_CARDS', 'EDUCATION_LEVEL', 'FLAG_MOBILE_PHONE', 'FLAG_HOME_ADDRESS_DOCUMENT', 'FLAG_RG', 'FLAG_CPF', 'FLAG_INCOME_PROOF', 'FLAG_ACSP_RECORD']\n"
     ]
    }
   ],
   "source": [
    "print('The columns to drop before correlation analysis are', cols_to_drop)"
   ],
   "metadata": {
    "collapsed": false
   }
  },
  {
   "cell_type": "code",
   "execution_count": 66,
   "outputs": [
    {
     "data": {
      "text/plain": "       PAYMENT_DAY APPLICATION_SUBMISSION_TYPE  POSTAL_ADDRESS_TYPE SEX  \\\n0                                                                         \n1                5                         Web                    1   F   \n2               15                       Carga                    1   F   \n3                5                         Web                    1   F   \n4               20                         Web                    1   F   \n5               10                         Web                    1   M   \n...            ...                         ...                  ...  ..   \n49996           10                           0                    1   F   \n49997           25                           0                    1   F   \n49998            5                         Web                    1   M   \n49999            1                         Web                    1   F   \n50000           10                         Web                    1   F   \n\n       MARITAL_STATUS  QUANT_DEPENDANTS STATE_OF_BIRTH     CITY_OF_BIRTH  \\\n0                                                                          \n1                   6                 1             RN              Assu   \n2                   2                 0             RJ    rio de janeiro   \n3                   2                 0             RN         GARANHUNS   \n4                   2                 0             PE              CABO   \n5                   2                 0             RJ    RIO DE JANEIRO   \n...               ...               ...            ...               ...   \n49996               1                 2             RN             NATAL   \n49997               1                 0             SP  LENCOIS PAULISTA   \n49998               2                 3             PR        RIO BONITO   \n49999               1                 1             SP         SAO PAULO   \n50000               2                 2             SP           PINDABA   \n\n       NACIONALITY RESIDENCIAL_STATE  ... FLAG_PROFESSIONAL_PHONE  \\\n0                                     ...                           \n1                1                RN  ...                       N   \n2                1                RJ  ...                       N   \n3                1                RN  ...                       N   \n4                1                PE  ...                       N   \n5                1                RJ  ...                       N   \n...            ...               ...  ...                     ...   \n49996            1                RN  ...                       N   \n49997            1                SP  ...                       N   \n49998            1                SP  ...                       Y   \n49999            1                MG  ...                       Y   \n50000            1                SP  ...                       Y   \n\n      PROFESSIONAL_PHONE_AREA_CODE MONTHS_IN_THE_JOB PROFESSION_CODE  \\\n0                                                                      \n1                                                  0             9.0   \n2                                                  0            11.0   \n3                                                  0            11.0   \n4                                                  0             NaN   \n5                                                  0             9.0   \n...                            ...               ...             ...   \n49996                                              0             9.0   \n49997                                              0             NaN   \n49998                            5                 0             9.0   \n49999                           29                 0             9.0   \n50000                            9                 0             9.0   \n\n       OCCUPATION_TYPE  PRODUCT  AGE  RESIDENCIAL_ZIP_3  PROFESSIONAL_ZIP_3  \\\n0                                                                             \n1                  4.0        1   32                595                 595   \n2                  4.0        1   34                230                 230   \n3                  NaN        1   27                591                 591   \n4                  NaN        1   61                545                 545   \n5                  5.0        1   48                235                 235   \n...                ...      ...  ...                ...                 ...   \n49996              4.0        1   36                591                 591   \n49997              NaN        2   21                186                 186   \n49998              2.0        1   41                715                 715   \n49999              2.0        1   28                320                 320   \n50000              2.0        1   27                124                 124   \n\n       TARGET_LABEL_BAD=1  \n0                          \n1                       1  \n2                       1  \n3                       0  \n4                       0  \n5                       1  \n...                   ...  \n49996                   1  \n49997                   0  \n49998                   0  \n49999                   1  \n50000                   0  \n\n[50000 rows x 40 columns]",
      "text/html": "<div>\n<style scoped>\n    .dataframe tbody tr th:only-of-type {\n        vertical-align: middle;\n    }\n\n    .dataframe tbody tr th {\n        vertical-align: top;\n    }\n\n    .dataframe thead th {\n        text-align: right;\n    }\n</style>\n<table border=\"1\" class=\"dataframe\">\n  <thead>\n    <tr style=\"text-align: right;\">\n      <th></th>\n      <th>PAYMENT_DAY</th>\n      <th>APPLICATION_SUBMISSION_TYPE</th>\n      <th>POSTAL_ADDRESS_TYPE</th>\n      <th>SEX</th>\n      <th>MARITAL_STATUS</th>\n      <th>QUANT_DEPENDANTS</th>\n      <th>STATE_OF_BIRTH</th>\n      <th>CITY_OF_BIRTH</th>\n      <th>NACIONALITY</th>\n      <th>RESIDENCIAL_STATE</th>\n      <th>...</th>\n      <th>FLAG_PROFESSIONAL_PHONE</th>\n      <th>PROFESSIONAL_PHONE_AREA_CODE</th>\n      <th>MONTHS_IN_THE_JOB</th>\n      <th>PROFESSION_CODE</th>\n      <th>OCCUPATION_TYPE</th>\n      <th>PRODUCT</th>\n      <th>AGE</th>\n      <th>RESIDENCIAL_ZIP_3</th>\n      <th>PROFESSIONAL_ZIP_3</th>\n      <th>TARGET_LABEL_BAD=1</th>\n    </tr>\n    <tr>\n      <th>0</th>\n      <th></th>\n      <th></th>\n      <th></th>\n      <th></th>\n      <th></th>\n      <th></th>\n      <th></th>\n      <th></th>\n      <th></th>\n      <th></th>\n      <th></th>\n      <th></th>\n      <th></th>\n      <th></th>\n      <th></th>\n      <th></th>\n      <th></th>\n      <th></th>\n      <th></th>\n      <th></th>\n      <th></th>\n    </tr>\n  </thead>\n  <tbody>\n    <tr>\n      <th>1</th>\n      <td>5</td>\n      <td>Web</td>\n      <td>1</td>\n      <td>F</td>\n      <td>6</td>\n      <td>1</td>\n      <td>RN</td>\n      <td>Assu</td>\n      <td>1</td>\n      <td>RN</td>\n      <td>...</td>\n      <td>N</td>\n      <td></td>\n      <td>0</td>\n      <td>9.0</td>\n      <td>4.0</td>\n      <td>1</td>\n      <td>32</td>\n      <td>595</td>\n      <td>595</td>\n      <td>1</td>\n    </tr>\n    <tr>\n      <th>2</th>\n      <td>15</td>\n      <td>Carga</td>\n      <td>1</td>\n      <td>F</td>\n      <td>2</td>\n      <td>0</td>\n      <td>RJ</td>\n      <td>rio de janeiro</td>\n      <td>1</td>\n      <td>RJ</td>\n      <td>...</td>\n      <td>N</td>\n      <td></td>\n      <td>0</td>\n      <td>11.0</td>\n      <td>4.0</td>\n      <td>1</td>\n      <td>34</td>\n      <td>230</td>\n      <td>230</td>\n      <td>1</td>\n    </tr>\n    <tr>\n      <th>3</th>\n      <td>5</td>\n      <td>Web</td>\n      <td>1</td>\n      <td>F</td>\n      <td>2</td>\n      <td>0</td>\n      <td>RN</td>\n      <td>GARANHUNS</td>\n      <td>1</td>\n      <td>RN</td>\n      <td>...</td>\n      <td>N</td>\n      <td></td>\n      <td>0</td>\n      <td>11.0</td>\n      <td>NaN</td>\n      <td>1</td>\n      <td>27</td>\n      <td>591</td>\n      <td>591</td>\n      <td>0</td>\n    </tr>\n    <tr>\n      <th>4</th>\n      <td>20</td>\n      <td>Web</td>\n      <td>1</td>\n      <td>F</td>\n      <td>2</td>\n      <td>0</td>\n      <td>PE</td>\n      <td>CABO</td>\n      <td>1</td>\n      <td>PE</td>\n      <td>...</td>\n      <td>N</td>\n      <td></td>\n      <td>0</td>\n      <td>NaN</td>\n      <td>NaN</td>\n      <td>1</td>\n      <td>61</td>\n      <td>545</td>\n      <td>545</td>\n      <td>0</td>\n    </tr>\n    <tr>\n      <th>5</th>\n      <td>10</td>\n      <td>Web</td>\n      <td>1</td>\n      <td>M</td>\n      <td>2</td>\n      <td>0</td>\n      <td>RJ</td>\n      <td>RIO DE JANEIRO</td>\n      <td>1</td>\n      <td>RJ</td>\n      <td>...</td>\n      <td>N</td>\n      <td></td>\n      <td>0</td>\n      <td>9.0</td>\n      <td>5.0</td>\n      <td>1</td>\n      <td>48</td>\n      <td>235</td>\n      <td>235</td>\n      <td>1</td>\n    </tr>\n    <tr>\n      <th>...</th>\n      <td>...</td>\n      <td>...</td>\n      <td>...</td>\n      <td>...</td>\n      <td>...</td>\n      <td>...</td>\n      <td>...</td>\n      <td>...</td>\n      <td>...</td>\n      <td>...</td>\n      <td>...</td>\n      <td>...</td>\n      <td>...</td>\n      <td>...</td>\n      <td>...</td>\n      <td>...</td>\n      <td>...</td>\n      <td>...</td>\n      <td>...</td>\n      <td>...</td>\n      <td>...</td>\n    </tr>\n    <tr>\n      <th>49996</th>\n      <td>10</td>\n      <td>0</td>\n      <td>1</td>\n      <td>F</td>\n      <td>1</td>\n      <td>2</td>\n      <td>RN</td>\n      <td>NATAL</td>\n      <td>1</td>\n      <td>RN</td>\n      <td>...</td>\n      <td>N</td>\n      <td></td>\n      <td>0</td>\n      <td>9.0</td>\n      <td>4.0</td>\n      <td>1</td>\n      <td>36</td>\n      <td>591</td>\n      <td>591</td>\n      <td>1</td>\n    </tr>\n    <tr>\n      <th>49997</th>\n      <td>25</td>\n      <td>0</td>\n      <td>1</td>\n      <td>F</td>\n      <td>1</td>\n      <td>0</td>\n      <td>SP</td>\n      <td>LENCOIS PAULISTA</td>\n      <td>1</td>\n      <td>SP</td>\n      <td>...</td>\n      <td>N</td>\n      <td></td>\n      <td>0</td>\n      <td>NaN</td>\n      <td>NaN</td>\n      <td>2</td>\n      <td>21</td>\n      <td>186</td>\n      <td>186</td>\n      <td>0</td>\n    </tr>\n    <tr>\n      <th>49998</th>\n      <td>5</td>\n      <td>Web</td>\n      <td>1</td>\n      <td>M</td>\n      <td>2</td>\n      <td>3</td>\n      <td>PR</td>\n      <td>RIO BONITO</td>\n      <td>1</td>\n      <td>SP</td>\n      <td>...</td>\n      <td>Y</td>\n      <td>5</td>\n      <td>0</td>\n      <td>9.0</td>\n      <td>2.0</td>\n      <td>1</td>\n      <td>41</td>\n      <td>715</td>\n      <td>715</td>\n      <td>0</td>\n    </tr>\n    <tr>\n      <th>49999</th>\n      <td>1</td>\n      <td>Web</td>\n      <td>1</td>\n      <td>F</td>\n      <td>1</td>\n      <td>1</td>\n      <td>SP</td>\n      <td>SAO PAULO</td>\n      <td>1</td>\n      <td>MG</td>\n      <td>...</td>\n      <td>Y</td>\n      <td>29</td>\n      <td>0</td>\n      <td>9.0</td>\n      <td>2.0</td>\n      <td>1</td>\n      <td>28</td>\n      <td>320</td>\n      <td>320</td>\n      <td>1</td>\n    </tr>\n    <tr>\n      <th>50000</th>\n      <td>10</td>\n      <td>Web</td>\n      <td>1</td>\n      <td>F</td>\n      <td>2</td>\n      <td>2</td>\n      <td>SP</td>\n      <td>PINDABA</td>\n      <td>1</td>\n      <td>SP</td>\n      <td>...</td>\n      <td>Y</td>\n      <td>9</td>\n      <td>0</td>\n      <td>9.0</td>\n      <td>2.0</td>\n      <td>1</td>\n      <td>27</td>\n      <td>124</td>\n      <td>124</td>\n      <td>0</td>\n    </tr>\n  </tbody>\n</table>\n<p>50000 rows × 40 columns</p>\n</div>"
     },
     "execution_count": 66,
     "metadata": {},
     "output_type": "execute_result"
    }
   ],
   "source": [
    "# Drop columns with non-relevant information\n",
    "train_data = data.drop(columns=cols_to_drop)\n",
    "train_data"
   ],
   "metadata": {
    "collapsed": false
   }
  },
  {
   "cell_type": "code",
   "execution_count": 67,
   "outputs": [],
   "source": [
    "# Save data to csv\n",
    "train_data.to_csv(\"train_data.csv\")"
   ],
   "metadata": {
    "collapsed": false
   }
  },
  {
   "cell_type": "markdown",
   "source": [
    "### Let's read the test and validation datasets in order to select the same variables we have in train_data dataset."
   ],
   "metadata": {
    "collapsed": false
   }
  },
  {
   "cell_type": "code",
   "execution_count": 79,
   "outputs": [],
   "source": [
    "# Test set\n",
    "test_data = pd.read_csv('../data/PAKDD2010_Leaderboard_Data.txt',\n",
    "                        header=None,\n",
    "                        delimiter='\\t',\n",
    "                        encoding='ISO-8859-1',\n",
    "                        index_col=0\n",
    "                       )\n",
    "# Validation test\n",
    "val_data = pd.read_csv('../data/PAKDD2010_Prediction_Data.txt',\n",
    "                       header=None,\n",
    "                       delimiter='\\t',\n",
    "                       encoding='ISO-8859-1',\n",
    "                       index_col=0\n",
    "                       )"
   ],
   "metadata": {
    "collapsed": false
   }
  },
  {
   "cell_type": "code",
   "execution_count": 80,
   "outputs": [],
   "source": [
    "# Set the same columns names for test and validation datasets than the training\n",
    "# one\n",
    "# First give name to columns\n",
    "test_data.columns = cols[:-1]\n",
    "val_data.columns  = cols[:-1]\n",
    "\n",
    "# Second match the columns names with training dataset columns names\n",
    "test_data = test_data[train_data.columns[:-1]]\n",
    "val_data  = val_data[test_data.columns]"
   ],
   "metadata": {
    "collapsed": false
   }
  },
  {
   "cell_type": "code",
   "execution_count": 81,
   "outputs": [],
   "source": [
    "# Save test and validation datasets\n",
    "test_data.to_csv(\"test_data.csv\")\n",
    "val_data.to_csv(\"val_data.csv\")"
   ],
   "metadata": {
    "collapsed": false
   }
  },
  {
   "cell_type": "markdown",
   "source": [
    "Let's move onto the Correlation_Analysis Notebook to continue the preprocessing of the data."
   ],
   "metadata": {
    "collapsed": false
   }
  }
 ],
 "metadata": {
  "kernelspec": {
   "display_name": "Python 3",
   "language": "python",
   "name": "python3"
  },
  "language_info": {
   "codemirror_mode": {
    "name": "ipython",
    "version": 2
   },
   "file_extension": ".py",
   "mimetype": "text/x-python",
   "name": "python",
   "nbconvert_exporter": "python",
   "pygments_lexer": "ipython2",
   "version": "2.7.6"
  }
 },
 "nbformat": 4,
 "nbformat_minor": 0
}
