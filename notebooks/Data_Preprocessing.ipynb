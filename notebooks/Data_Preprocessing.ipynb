{
 "cells": [
  {
   "cell_type": "markdown",
   "metadata": {
    "collapsed": false
   },
   "source": [
    "# Exploratory Data Analysis Part 1: Data Selection"
   ]
  },
  {
   "cell_type": "code",
   "execution_count": 824,
   "metadata": {
    "collapsed": true
   },
   "outputs": [],
   "source": [
    "# Libraries importing\n",
    "import numpy as np\n",
    "import pandas as pd"
   ]
  },
  {
   "cell_type": "code",
   "execution_count": 825,
   "metadata": {
    "collapsed": false
   },
   "outputs": [
    {
     "name": "stderr",
     "output_type": "stream",
     "text": [
      "/tmp/ipykernel_1795/1835940254.py:2: DtypeWarning: Columns (51,52) have mixed types. Specify dtype option on import or set low_memory=False.\n",
      "  data = pd.read_csv('../data/PAKDD2010_Modeling_Data.txt',\n"
     ]
    }
   ],
   "source": [
    "# Get training data from .txt file\n",
    "data = pd.read_csv('../data/PAKDD2010_Modeling_Data.txt',\n",
    "                   header=None,\n",
    "                   delimiter='\\t',\n",
    "                   encoding='ISO-8859-1',\n",
    "                   index_col=0\n",
    "                   )"
   ]
  },
  {
   "cell_type": "code",
   "execution_count": 826,
   "metadata": {
    "collapsed": false
   },
   "outputs": [],
   "source": [
    "# Get name and description of data columns\n",
    "var_names = pd.read_excel('../data/PAKDD2010_VariablesList.XLS')"
   ]
  },
  {
   "cell_type": "code",
   "execution_count": 827,
   "metadata": {
    "collapsed": false
   },
   "outputs": [
    {
     "data": {
      "text/plain": "False    53\nTrue      1\nName: Var_Title, dtype: int64"
     },
     "execution_count": 827,
     "metadata": {},
     "output_type": "execute_result"
    }
   ],
   "source": [
    "# Analyze if there are duplicated variable names\n",
    "var_names['Var_Title'].duplicated().value_counts()"
   ]
  },
  {
   "cell_type": "code",
   "execution_count": 828,
   "metadata": {
    "collapsed": false
   },
   "outputs": [],
   "source": [
    "# As there are a variable with the same name that other, let's rename the\n",
    "# second.\n",
    "cols = []\n",
    "for column in var_names['Var_Title'][1:]:     # Isolate ID_CLIENT because it is\n",
    "                                              # used as dataframe index\n",
    "    if column in cols:\n",
    "        count = cols.count(column) + 1\n",
    "        cols.append(f'{column}_{count}')\n",
    "    else:\n",
    "        cols.append(column)"
   ]
  },
  {
   "cell_type": "code",
   "execution_count": 829,
   "metadata": {
    "collapsed": false
   },
   "outputs": [],
   "source": [
    "# Set Var_Title as Columns names for or training dataset\n",
    "data.columns = cols"
   ]
  },
  {
   "cell_type": "code",
   "execution_count": 830,
   "metadata": {
    "collapsed": false
   },
   "outputs": [
    {
     "data": {
      "text/plain": "50000"
     },
     "execution_count": 830,
     "metadata": {},
     "output_type": "execute_result"
    }
   ],
   "source": [
    "data.shape[0]"
   ]
  },
  {
   "cell_type": "code",
   "execution_count": 831,
   "metadata": {
    "collapsed": false
   },
   "outputs": [
    {
     "data": {
      "text/plain": "CLERK_TYPE                            0\nPAYMENT_DAY                           0\nAPPLICATION_SUBMISSION_TYPE           0\nQUANT_ADDITIONAL_CARDS                0\nPOSTAL_ADDRESS_TYPE                   0\nSEX                                   0\nMARITAL_STATUS                        0\nQUANT_DEPENDANTS                      0\nEDUCATION_LEVEL                       0\nSTATE_OF_BIRTH                        0\nCITY_OF_BIRTH                         0\nNACIONALITY                           0\nRESIDENCIAL_STATE                     0\nRESIDENCIAL_CITY                      0\nRESIDENCIAL_BOROUGH                   0\nFLAG_RESIDENCIAL_PHONE                0\nRESIDENCIAL_PHONE_AREA_CODE           0\nRESIDENCE_TYPE                     1349\nMONTHS_IN_RESIDENCE                3777\nFLAG_MOBILE_PHONE                     0\nFLAG_EMAIL                            0\nPERSONAL_MONTHLY_INCOME               0\nOTHER_INCOMES                         0\nFLAG_VISA                             0\nFLAG_MASTERCARD                       0\nFLAG_DINERS                           0\nFLAG_AMERICAN_EXPRESS                 0\nFLAG_OTHER_CARDS                      0\nQUANT_BANKING_ACCOUNTS                0\nQUANT_SPECIAL_BANKING_ACCOUNTS        0\nPERSONAL_ASSETS_VALUE                 0\nQUANT_CARS                            0\nCOMPANY                               0\nPROFESSIONAL_STATE                    0\nPROFESSIONAL_CITY                 33783\nPROFESSIONAL_BOROUGH              33783\nFLAG_PROFESSIONAL_PHONE               0\nPROFESSIONAL_PHONE_AREA_CODE          0\nMONTHS_IN_THE_JOB                     0\nPROFESSION_CODE                    7756\nOCCUPATION_TYPE                    7313\nMATE_PROFESSION_CODE              28884\nEDUCATION_LEVEL_2                 32338\nFLAG_HOME_ADDRESS_DOCUMENT            0\nFLAG_RG                               0\nFLAG_CPF                              0\nFLAG_INCOME_PROOF                     0\nPRODUCT                               0\nFLAG_ACSP_RECORD                      0\nAGE                                   0\nRESIDENCIAL_ZIP_3                     0\nPROFESSIONAL_ZIP_3                    0\nTARGET_LABEL_BAD=1                    0\ndtype: int64"
     },
     "execution_count": 831,
     "metadata": {},
     "output_type": "execute_result"
    }
   ],
   "source": [
    "# Count Null values per column\n",
    "data.isna().sum()"
   ]
  },
  {
   "cell_type": "code",
   "execution_count": 832,
   "metadata": {
    "collapsed": false
   },
   "outputs": [
    {
     "data": {
      "text/plain": "['PROFESSIONAL_CITY',\n 'PROFESSIONAL_BOROUGH',\n 'MATE_PROFESSION_CODE',\n 'EDUCATION_LEVEL_2']"
     },
     "execution_count": 832,
     "metadata": {},
     "output_type": "execute_result"
    }
   ],
   "source": [
    "# Let's drop columns with sum of NaN values greater than the half of the total\n",
    "# number of samples\n",
    "cols_to_drop = list(data.isna().sum()[\n",
    "    data.isna().sum() > data.shape[0]//2].index)\n",
    "cols_to_drop"
   ]
  },
  {
   "cell_type": "code",
   "execution_count": 833,
   "metadata": {
    "collapsed": false
   },
   "outputs": [],
   "source": [
    "# Append columns with just one unique value to dols_to drop as they don't add\n",
    "# value to the analysis\n",
    "for col in data.columns:\n",
    "    if len(data[col].unique()) == 1:\n",
    "        if col not in cols_to_drop:\n",
    "            cols_to_drop.append(col)"
   ]
  },
  {
   "cell_type": "code",
   "execution_count": 834,
   "metadata": {
    "collapsed": false
   },
   "outputs": [
    {
     "name": "stdout",
     "output_type": "stream",
     "text": [
      "The columns to drop before correlation analysis are ['PROFESSIONAL_CITY', 'PROFESSIONAL_BOROUGH', 'MATE_PROFESSION_CODE', 'EDUCATION_LEVEL_2', 'CLERK_TYPE', 'QUANT_ADDITIONAL_CARDS', 'EDUCATION_LEVEL', 'FLAG_MOBILE_PHONE', 'FLAG_HOME_ADDRESS_DOCUMENT', 'FLAG_RG', 'FLAG_CPF', 'FLAG_INCOME_PROOF', 'FLAG_ACSP_RECORD']\n"
     ]
    }
   ],
   "source": [
    "print('The columns to drop before correlation analysis are', cols_to_drop)"
   ]
  },
  {
   "cell_type": "code",
   "execution_count": 835,
   "metadata": {
    "collapsed": false
   },
   "outputs": [],
   "source": [
    "# Drop columns with non-relevant information\n",
    "train_data = data.drop(columns=cols_to_drop)"
   ]
  },
  {
   "cell_type": "code",
   "execution_count": 836,
   "outputs": [],
   "source": [
    "# Remove columns with duplicate values\n",
    "train_data = train_data.transpose().drop_duplicates().transpose()"
   ],
   "metadata": {
    "collapsed": false
   }
  },
  {
   "cell_type": "code",
   "execution_count": 837,
   "outputs": [
    {
     "data": {
      "text/plain": "   PAYMENT_DAY APPLICATION_SUBMISSION_TYPE POSTAL_ADDRESS_TYPE SEX  \\\n0                                                                    \n1            5                         Web                   1   F   \n2           15                       Carga                   1   F   \n3            5                         Web                   1   F   \n4           20                         Web                   1   F   \n5           10                         Web                   1   M   \n6           10                           0                   1   M   \n7           15                       Carga                   1   F   \n8           25                         Web                   1   F   \n9           15                           0                   1   F   \n10           5                           0                   1   F   \n\n   MARITAL_STATUS QUANT_DEPENDANTS STATE_OF_BIRTH       CITY_OF_BIRTH  \\\n0                                                                       \n1               6                1             RN                Assu   \n2               2                0             RJ      rio de janeiro   \n3               2                0             RN           GARANHUNS   \n4               2                0             PE                CABO   \n5               2                0             RJ      RIO DE JANEIRO   \n6               2                0             MG  CARMO DO RIO CLARO   \n7               2                2             BA            salvador   \n8               1                0             MG             ATALEIA   \n9               1                0             SP    LENCOIS PAULISTA   \n10              1                0             RS         SANTA MARIA   \n\n   NACIONALITY RESIDENCIAL_STATE  ... PROFESSIONAL_STATE  \\\n0                                 ...                      \n1            1                RN  ...                      \n2            1                RJ  ...                      \n3            1                RN  ...                      \n4            1                PE  ...                      \n5            1                RJ  ...                      \n6            1                MG  ...                 MG   \n7            1                BA  ...                      \n8            1                SP  ...                 SP   \n9            1                SP  ...                      \n10           1                RS  ...                 RS   \n\n   FLAG_PROFESSIONAL_PHONE PROFESSIONAL_PHONE_AREA_CODE MONTHS_IN_THE_JOB  \\\n0                                                                           \n1                        N                                              0   \n2                        N                                              0   \n3                        N                                              0   \n4                        N                                              0   \n5                        N                                              0   \n6                        N                                              0   \n7                        N                                              0   \n8                        Y                            5                 0   \n9                        N                                              0   \n10                       Y                           54                 0   \n\n   PROFESSION_CODE OCCUPATION_TYPE PRODUCT AGE RESIDENCIAL_ZIP_3  \\\n0                                                                  \n1              9.0             4.0       1  32               595   \n2             11.0             4.0       1  34               230   \n3             11.0             NaN       1  27               591   \n4              NaN             NaN       1  61               545   \n5              9.0             5.0       1  48               235   \n6              9.0             2.0       2  40               371   \n7             11.0             4.0       1  40               413   \n8             11.0             2.0       1  28               686   \n9              0.0             2.0       2  31               172   \n10             9.0             2.0       1  41               914   \n\n   TARGET_LABEL_BAD=1  \n0                      \n1                   1  \n2                   1  \n3                   0  \n4                   0  \n5                   1  \n6                   1  \n7                   1  \n8                   0  \n9                   0  \n10                  0  \n\n[10 rows x 38 columns]",
      "text/html": "<div>\n<style scoped>\n    .dataframe tbody tr th:only-of-type {\n        vertical-align: middle;\n    }\n\n    .dataframe tbody tr th {\n        vertical-align: top;\n    }\n\n    .dataframe thead th {\n        text-align: right;\n    }\n</style>\n<table border=\"1\" class=\"dataframe\">\n  <thead>\n    <tr style=\"text-align: right;\">\n      <th></th>\n      <th>PAYMENT_DAY</th>\n      <th>APPLICATION_SUBMISSION_TYPE</th>\n      <th>POSTAL_ADDRESS_TYPE</th>\n      <th>SEX</th>\n      <th>MARITAL_STATUS</th>\n      <th>QUANT_DEPENDANTS</th>\n      <th>STATE_OF_BIRTH</th>\n      <th>CITY_OF_BIRTH</th>\n      <th>NACIONALITY</th>\n      <th>RESIDENCIAL_STATE</th>\n      <th>...</th>\n      <th>PROFESSIONAL_STATE</th>\n      <th>FLAG_PROFESSIONAL_PHONE</th>\n      <th>PROFESSIONAL_PHONE_AREA_CODE</th>\n      <th>MONTHS_IN_THE_JOB</th>\n      <th>PROFESSION_CODE</th>\n      <th>OCCUPATION_TYPE</th>\n      <th>PRODUCT</th>\n      <th>AGE</th>\n      <th>RESIDENCIAL_ZIP_3</th>\n      <th>TARGET_LABEL_BAD=1</th>\n    </tr>\n    <tr>\n      <th>0</th>\n      <th></th>\n      <th></th>\n      <th></th>\n      <th></th>\n      <th></th>\n      <th></th>\n      <th></th>\n      <th></th>\n      <th></th>\n      <th></th>\n      <th></th>\n      <th></th>\n      <th></th>\n      <th></th>\n      <th></th>\n      <th></th>\n      <th></th>\n      <th></th>\n      <th></th>\n      <th></th>\n      <th></th>\n    </tr>\n  </thead>\n  <tbody>\n    <tr>\n      <th>1</th>\n      <td>5</td>\n      <td>Web</td>\n      <td>1</td>\n      <td>F</td>\n      <td>6</td>\n      <td>1</td>\n      <td>RN</td>\n      <td>Assu</td>\n      <td>1</td>\n      <td>RN</td>\n      <td>...</td>\n      <td></td>\n      <td>N</td>\n      <td></td>\n      <td>0</td>\n      <td>9.0</td>\n      <td>4.0</td>\n      <td>1</td>\n      <td>32</td>\n      <td>595</td>\n      <td>1</td>\n    </tr>\n    <tr>\n      <th>2</th>\n      <td>15</td>\n      <td>Carga</td>\n      <td>1</td>\n      <td>F</td>\n      <td>2</td>\n      <td>0</td>\n      <td>RJ</td>\n      <td>rio de janeiro</td>\n      <td>1</td>\n      <td>RJ</td>\n      <td>...</td>\n      <td></td>\n      <td>N</td>\n      <td></td>\n      <td>0</td>\n      <td>11.0</td>\n      <td>4.0</td>\n      <td>1</td>\n      <td>34</td>\n      <td>230</td>\n      <td>1</td>\n    </tr>\n    <tr>\n      <th>3</th>\n      <td>5</td>\n      <td>Web</td>\n      <td>1</td>\n      <td>F</td>\n      <td>2</td>\n      <td>0</td>\n      <td>RN</td>\n      <td>GARANHUNS</td>\n      <td>1</td>\n      <td>RN</td>\n      <td>...</td>\n      <td></td>\n      <td>N</td>\n      <td></td>\n      <td>0</td>\n      <td>11.0</td>\n      <td>NaN</td>\n      <td>1</td>\n      <td>27</td>\n      <td>591</td>\n      <td>0</td>\n    </tr>\n    <tr>\n      <th>4</th>\n      <td>20</td>\n      <td>Web</td>\n      <td>1</td>\n      <td>F</td>\n      <td>2</td>\n      <td>0</td>\n      <td>PE</td>\n      <td>CABO</td>\n      <td>1</td>\n      <td>PE</td>\n      <td>...</td>\n      <td></td>\n      <td>N</td>\n      <td></td>\n      <td>0</td>\n      <td>NaN</td>\n      <td>NaN</td>\n      <td>1</td>\n      <td>61</td>\n      <td>545</td>\n      <td>0</td>\n    </tr>\n    <tr>\n      <th>5</th>\n      <td>10</td>\n      <td>Web</td>\n      <td>1</td>\n      <td>M</td>\n      <td>2</td>\n      <td>0</td>\n      <td>RJ</td>\n      <td>RIO DE JANEIRO</td>\n      <td>1</td>\n      <td>RJ</td>\n      <td>...</td>\n      <td></td>\n      <td>N</td>\n      <td></td>\n      <td>0</td>\n      <td>9.0</td>\n      <td>5.0</td>\n      <td>1</td>\n      <td>48</td>\n      <td>235</td>\n      <td>1</td>\n    </tr>\n    <tr>\n      <th>6</th>\n      <td>10</td>\n      <td>0</td>\n      <td>1</td>\n      <td>M</td>\n      <td>2</td>\n      <td>0</td>\n      <td>MG</td>\n      <td>CARMO DO RIO CLARO</td>\n      <td>1</td>\n      <td>MG</td>\n      <td>...</td>\n      <td>MG</td>\n      <td>N</td>\n      <td></td>\n      <td>0</td>\n      <td>9.0</td>\n      <td>2.0</td>\n      <td>2</td>\n      <td>40</td>\n      <td>371</td>\n      <td>1</td>\n    </tr>\n    <tr>\n      <th>7</th>\n      <td>15</td>\n      <td>Carga</td>\n      <td>1</td>\n      <td>F</td>\n      <td>2</td>\n      <td>2</td>\n      <td>BA</td>\n      <td>salvador</td>\n      <td>1</td>\n      <td>BA</td>\n      <td>...</td>\n      <td></td>\n      <td>N</td>\n      <td></td>\n      <td>0</td>\n      <td>11.0</td>\n      <td>4.0</td>\n      <td>1</td>\n      <td>40</td>\n      <td>413</td>\n      <td>1</td>\n    </tr>\n    <tr>\n      <th>8</th>\n      <td>25</td>\n      <td>Web</td>\n      <td>1</td>\n      <td>F</td>\n      <td>1</td>\n      <td>0</td>\n      <td>MG</td>\n      <td>ATALEIA</td>\n      <td>1</td>\n      <td>SP</td>\n      <td>...</td>\n      <td>SP</td>\n      <td>Y</td>\n      <td>5</td>\n      <td>0</td>\n      <td>11.0</td>\n      <td>2.0</td>\n      <td>1</td>\n      <td>28</td>\n      <td>686</td>\n      <td>0</td>\n    </tr>\n    <tr>\n      <th>9</th>\n      <td>15</td>\n      <td>0</td>\n      <td>1</td>\n      <td>F</td>\n      <td>1</td>\n      <td>0</td>\n      <td>SP</td>\n      <td>LENCOIS PAULISTA</td>\n      <td>1</td>\n      <td>SP</td>\n      <td>...</td>\n      <td></td>\n      <td>N</td>\n      <td></td>\n      <td>0</td>\n      <td>0.0</td>\n      <td>2.0</td>\n      <td>2</td>\n      <td>31</td>\n      <td>172</td>\n      <td>0</td>\n    </tr>\n    <tr>\n      <th>10</th>\n      <td>5</td>\n      <td>0</td>\n      <td>1</td>\n      <td>F</td>\n      <td>1</td>\n      <td>0</td>\n      <td>RS</td>\n      <td>SANTA MARIA</td>\n      <td>1</td>\n      <td>RS</td>\n      <td>...</td>\n      <td>RS</td>\n      <td>Y</td>\n      <td>54</td>\n      <td>0</td>\n      <td>9.0</td>\n      <td>2.0</td>\n      <td>1</td>\n      <td>41</td>\n      <td>914</td>\n      <td>0</td>\n    </tr>\n  </tbody>\n</table>\n<p>10 rows × 38 columns</p>\n</div>"
     },
     "execution_count": 837,
     "metadata": {},
     "output_type": "execute_result"
    }
   ],
   "source": [
    "# Take a look on data inside the training dataset\n",
    "train_data.head(10)"
   ],
   "metadata": {
    "collapsed": false
   }
  },
  {
   "cell_type": "markdown",
   "source": [
    "Before imputing missing values, It is necessary to contrast the kind of values we have in each variable and the expected values given by the file 'PAKDD2010_VariablesList.XLS'"
   ],
   "metadata": {
    "collapsed": false
   }
  },
  {
   "cell_type": "code",
   "execution_count": 838,
   "outputs": [],
   "source": [
    "# Build a dictionary with expected values for categorical variables\n",
    "expected_values = {\n",
    "    'PAYMENT_DAY': [1, 5, 10, 15, 20, 25],\n",
    "    'APPLICATION_SUBMISSION_TYPE': ['Web', 'Carga'],\n",
    "    'QUANT_ADDITIONAL_CARDS': [1, 2],\n",
    "    'POSTAL_ADDRESS_TYPE': [1, 2],\n",
    "    'SEX': ['M', 'F'],\n",
    "    'MARITAL_STATUS': [1, 2, 3, 4, 5, 6, 7],\n",
    "    'EDUCATION_LEVEL': [1, 2, 3, 4, 5],\n",
    "    'NACIONALITY': [0, 1, 2],\n",
    "    'FLAG_RESIDENTIAL_PHONE': ['Y', 'N'],\n",
    "    'RESIDENCE_TYPE': [1, 2, 3, 4 ,5],\n",
    "    'FLAG_MOBILE_PHONE': ['Y', 'N'],\n",
    "    'FLAG_EMAIL': [0, 1],\n",
    "    'FLAG_VISA': [0, 1],\n",
    "    'FLAG_MASTERCARD': [0, 1],\n",
    "    'FLAG_DINERS': [0, 1],\n",
    "    'FLAG_AMERICAN_EXPRESS': [0, 1],\n",
    "    'FLAG_OTHER_CARDS': [0, 1],\n",
    "    'QUANT_BANKING_ACCOUNTS': [0, 1, 2],\n",
    "    'QUANT_SPECIAL_BANKING_ACCOUNTS': [0, 1, 2],\n",
    "    'COMPANY': ['Y', 'N'],\n",
    "    'FLAG_PROFESSIONAL_PHONE': ['Y', 'N'],\n",
    "    'OCCUPATION_TYPE': [1, 2, 3, 4, 5],\n",
    "    'EDUCATION_LEVEL_2': [1, 2, 3, 4, 5],\n",
    "    'FLAG_HOME_ADDRESS_DOCUMENT': [0, 1],\n",
    "    'FLAG_RG': [0, 1],\n",
    "    'FLAG_CPF': [0, 1],\n",
    "    'FLAG_INCOME_PROOF': [0, 1],\n",
    "    'FLAG_ACSP_RECORD': ['Y', 'N'],\n",
    "    'TARGET_LABEL_BAD=1': [0, 1]\n",
    "}"
   ],
   "metadata": {
    "collapsed": false
   }
  },
  {
   "cell_type": "code",
   "execution_count": 839,
   "outputs": [],
   "source": [
    "for col in train_data.columns:\n",
    "    if col in expected_values:\n",
    "        # Define a categorical data type\n",
    "        cat_dtype = pd.CategoricalDtype(categories=expected_values[col],\n",
    "                                        ordered=False)\n",
    "        train_data[col] = train_data[col].astype(dtype=cat_dtype)\n",
    "\n",
    "# Convert types to suggested by pandas\n",
    "train_data = train_data.convert_dtypes()"
   ],
   "metadata": {
    "collapsed": false
   }
  },
  {
   "cell_type": "code",
   "execution_count": 840,
   "outputs": [],
   "source": [
    "# Get the numerical variables\n",
    "num_vars = train_data._get_numeric_data().columns\n",
    "# Get the categorical variables\n",
    "cat_vars = list(set(train_data.columns) - set(num_vars))"
   ],
   "metadata": {
    "collapsed": false
   }
  },
  {
   "cell_type": "code",
   "execution_count": 841,
   "outputs": [
    {
     "data": {
      "text/plain": "Float64Dtype()"
     },
     "execution_count": 841,
     "metadata": {},
     "output_type": "execute_result"
    }
   ],
   "source": [
    "train_data.PERSONAL_MONTHLY_INCOME.dtype"
   ],
   "metadata": {
    "collapsed": false
   }
  },
  {
   "cell_type": "code",
   "execution_count": 842,
   "outputs": [
    {
     "data": {
      "text/plain": "Index(['QUANT_DEPENDANTS', 'MONTHS_IN_RESIDENCE', 'PERSONAL_MONTHLY_INCOME',\n       'OTHER_INCOMES', 'PERSONAL_ASSETS_VALUE', 'QUANT_CARS',\n       'MONTHS_IN_THE_JOB', 'PROFESSION_CODE', 'PRODUCT', 'AGE'],\n      dtype='object')"
     },
     "execution_count": 842,
     "metadata": {},
     "output_type": "execute_result"
    }
   ],
   "source": [
    "num_vars"
   ],
   "metadata": {
    "collapsed": false
   }
  },
  {
   "cell_type": "code",
   "execution_count": 843,
   "outputs": [
    {
     "data": {
      "text/plain": "['SEX',\n 'FLAG_OTHER_CARDS',\n 'RESIDENCIAL_ZIP_3',\n 'RESIDENCIAL_BOROUGH',\n 'OCCUPATION_TYPE',\n 'STATE_OF_BIRTH',\n 'APPLICATION_SUBMISSION_TYPE',\n 'QUANT_BANKING_ACCOUNTS',\n 'FLAG_PROFESSIONAL_PHONE',\n 'PROFESSIONAL_PHONE_AREA_CODE',\n 'RESIDENCE_TYPE',\n 'TARGET_LABEL_BAD=1',\n 'FLAG_DINERS',\n 'PROFESSIONAL_STATE',\n 'FLAG_AMERICAN_EXPRESS',\n 'FLAG_MASTERCARD',\n 'RESIDENCIAL_CITY',\n 'FLAG_RESIDENCIAL_PHONE',\n 'PAYMENT_DAY',\n 'RESIDENCIAL_PHONE_AREA_CODE',\n 'COMPANY',\n 'CITY_OF_BIRTH',\n 'MARITAL_STATUS',\n 'POSTAL_ADDRESS_TYPE',\n 'FLAG_VISA',\n 'RESIDENCIAL_STATE',\n 'NACIONALITY',\n 'FLAG_EMAIL']"
     },
     "execution_count": 843,
     "metadata": {},
     "output_type": "execute_result"
    }
   ],
   "source": [
    "cat_vars"
   ],
   "metadata": {
    "collapsed": false
   }
  },
  {
   "cell_type": "markdown",
   "source": [
    "Dataframe method '_get_numeric_data' returns variables whose data type is numeric but if we take a look on those columns, we can conclude that they are some variables that are categorical but expressed by numbers, so we have to find another way to split the data between numerical and categorical variables.\n",
    "\n",
    "The new criteria will be the number of unique values that are present in the data for each column, so those variables that have less than 20 different values will be considered as categorical because 20 different values inside a dataset with 50000 samples is a small value so each of those 20 numbers will be repeated (in average) a lot of times."
   ],
   "metadata": {
    "collapsed": false
   }
  },
  {
   "cell_type": "code",
   "execution_count": 844,
   "outputs": [],
   "source": [
    "# Let's cast numerical variables with less than 20 unique values to string type\n",
    "for col in num_vars:\n",
    "    if train_data[col].nunique() <= 20 and col in expected_values.keys():\n",
    "        # First cast to int\n",
    "        train_data[col] = pd.to_numeric(train_data[col],\n",
    "                                        errors='coerce',     # Errors to NaN\n",
    "                                        downcast='integer')\n",
    "        # Create categorical data type for its unique values\n",
    "        cat_dtype = pd.CategoricalDtype(\n",
    "            categories=train_data[col].dropna().unique())\n",
    "        # Cast to categorical data type\n",
    "        train_data[col] = train_data[col].astype(dtype=cat_dtype)"
   ],
   "metadata": {
    "collapsed": false
   }
  },
  {
   "cell_type": "markdown",
   "source": [
    "Let's get the new numerical and categorical variables"
   ],
   "metadata": {
    "collapsed": false
   }
  },
  {
   "cell_type": "code",
   "execution_count": 845,
   "outputs": [],
   "source": [
    "# Get the numerical variables\n",
    "num_vars = train_data._get_numeric_data().columns\n",
    "# Get the categorical variables\n",
    "cat_vars = list(set(train_data.columns) - set(num_vars))"
   ],
   "metadata": {
    "collapsed": false
   }
  },
  {
   "cell_type": "code",
   "execution_count": 846,
   "outputs": [
    {
     "data": {
      "text/plain": "Index(['QUANT_DEPENDANTS', 'MONTHS_IN_RESIDENCE', 'PERSONAL_MONTHLY_INCOME',\n       'OTHER_INCOMES', 'PERSONAL_ASSETS_VALUE', 'QUANT_CARS',\n       'MONTHS_IN_THE_JOB', 'PROFESSION_CODE', 'PRODUCT', 'AGE'],\n      dtype='object')"
     },
     "execution_count": 846,
     "metadata": {},
     "output_type": "execute_result"
    }
   ],
   "source": [
    "num_vars"
   ],
   "metadata": {
    "collapsed": false
   }
  },
  {
   "cell_type": "code",
   "execution_count": 847,
   "outputs": [
    {
     "data": {
      "text/plain": "['SEX',\n 'FLAG_OTHER_CARDS',\n 'RESIDENCIAL_ZIP_3',\n 'RESIDENCIAL_BOROUGH',\n 'OCCUPATION_TYPE',\n 'STATE_OF_BIRTH',\n 'APPLICATION_SUBMISSION_TYPE',\n 'QUANT_BANKING_ACCOUNTS',\n 'FLAG_PROFESSIONAL_PHONE',\n 'PROFESSIONAL_PHONE_AREA_CODE',\n 'RESIDENCE_TYPE',\n 'TARGET_LABEL_BAD=1',\n 'FLAG_DINERS',\n 'PROFESSIONAL_STATE',\n 'FLAG_AMERICAN_EXPRESS',\n 'FLAG_MASTERCARD',\n 'RESIDENCIAL_CITY',\n 'FLAG_RESIDENCIAL_PHONE',\n 'PAYMENT_DAY',\n 'RESIDENCIAL_PHONE_AREA_CODE',\n 'COMPANY',\n 'CITY_OF_BIRTH',\n 'MARITAL_STATUS',\n 'POSTAL_ADDRESS_TYPE',\n 'FLAG_VISA',\n 'RESIDENCIAL_STATE',\n 'NACIONALITY',\n 'FLAG_EMAIL']"
     },
     "execution_count": 847,
     "metadata": {},
     "output_type": "execute_result"
    }
   ],
   "source": [
    "cat_vars"
   ],
   "metadata": {
    "collapsed": false
   }
  },
  {
   "cell_type": "code",
   "execution_count": 848,
   "outputs": [
    {
     "data": {
      "text/plain": "PAYMENT_DAY                         0\nAPPLICATION_SUBMISSION_TYPE         0\nPOSTAL_ADDRESS_TYPE                 0\nSEX                                 0\nMARITAL_STATUS                      0\nQUANT_DEPENDANTS                    0\nSTATE_OF_BIRTH                   2064\nCITY_OF_BIRTH                    2064\nNACIONALITY                         0\nRESIDENCIAL_STATE                   0\nRESIDENCIAL_CITY                    0\nRESIDENCIAL_BOROUGH                10\nFLAG_RESIDENCIAL_PHONE              0\nRESIDENCIAL_PHONE_AREA_CODE      8212\nRESIDENCE_TYPE                      0\nMONTHS_IN_RESIDENCE                 0\nFLAG_EMAIL                          0\nPERSONAL_MONTHLY_INCOME             0\nOTHER_INCOMES                       0\nFLAG_VISA                           0\nFLAG_MASTERCARD                     0\nFLAG_DINERS                         0\nFLAG_AMERICAN_EXPRESS               0\nFLAG_OTHER_CARDS                    0\nQUANT_BANKING_ACCOUNTS              0\nPERSONAL_ASSETS_VALUE               0\nQUANT_CARS                          0\nCOMPANY                             0\nPROFESSIONAL_STATE              34307\nFLAG_PROFESSIONAL_PHONE             0\nPROFESSIONAL_PHONE_AREA_CODE    36532\nMONTHS_IN_THE_JOB                   0\nPROFESSION_CODE                     0\nOCCUPATION_TYPE                     0\nPRODUCT                             0\nAGE                                 0\nRESIDENCIAL_ZIP_3                   0\nTARGET_LABEL_BAD=1                  0\ndtype: int64"
     },
     "execution_count": 848,
     "metadata": {},
     "output_type": "execute_result"
    }
   ],
   "source": [
    "# Count empty strings present in each column\n",
    "train_data.isin(values=[' ']).sum()"
   ],
   "metadata": {
    "collapsed": false
   }
  },
  {
   "cell_type": "markdown",
   "source": [
    "As we can see, there are son samples that have a string like ' ' and this is just a missing value, so let's replace them with NaN so that pandas and numpy can recognize them as missing values."
   ],
   "metadata": {
    "collapsed": false
   }
  },
  {
   "cell_type": "code",
   "execution_count": 849,
   "outputs": [],
   "source": [
    "# Replace empty strings feature by feature\n",
    "train_data.PROFESSIONAL_STATE.replace(to_replace=['', ' '],\n",
    "                                      value='NO_JOB',\n",
    "                                      inplace=True)\n",
    "\n",
    "train_data.STATE_OF_BIRTH.replace(to_replace=['', ' '],\n",
    "                                      value='NO_DATA',\n",
    "                                      inplace=True)\n",
    "\n",
    "train_data.RESIDENCIAL_PHONE_AREA_CODE.replace(to_replace=['', ' '],\n",
    "                                      value='NO_DATA',\n",
    "                                      inplace=True)\n",
    "\n",
    "train_data.PROFESSIONAL_PHONE_AREA_CODE.replace(to_replace=['', ' '],\n",
    "                                      value='NO_DATA',\n",
    "                                      inplace=True)\n",
    "# Convert types to suggested by pandas\n",
    "train_data = train_data.convert_dtypes()"
   ],
   "metadata": {
    "collapsed": false
   }
  },
  {
   "cell_type": "markdown",
   "source": [
    "Now, it will be good to take a look on how many different values do the categorical variables have, in order to know how many variables will appear when we apply One Hot Encoding to those variables with a high number of different values."
   ],
   "metadata": {
    "collapsed": false
   }
  },
  {
   "cell_type": "code",
   "execution_count": 850,
   "outputs": [
    {
     "data": {
      "text/plain": "SEX                                 2\nFLAG_OTHER_CARDS                    2\nRESIDENCIAL_ZIP_3                1481\nRESIDENCIAL_BOROUGH             14511\nOCCUPATION_TYPE                     5\nSTATE_OF_BIRTH                     29\nAPPLICATION_SUBMISSION_TYPE         2\nQUANT_BANKING_ACCOUNTS              3\nFLAG_PROFESSIONAL_PHONE             2\nPROFESSIONAL_PHONE_AREA_CODE       87\nRESIDENCE_TYPE                      5\nTARGET_LABEL_BAD=1                  2\nFLAG_DINERS                         2\nPROFESSIONAL_STATE                 28\nFLAG_AMERICAN_EXPRESS               2\nFLAG_MASTERCARD                     2\nRESIDENCIAL_CITY                 3529\nFLAG_RESIDENCIAL_PHONE              2\nPAYMENT_DAY                         6\nRESIDENCIAL_PHONE_AREA_CODE       102\nCOMPANY                             2\nCITY_OF_BIRTH                    9910\nMARITAL_STATUS                      7\nPOSTAL_ADDRESS_TYPE                 2\nFLAG_VISA                           2\nRESIDENCIAL_STATE                  27\nNACIONALITY                         3\nFLAG_EMAIL                          2\ndtype: int64"
     },
     "execution_count": 850,
     "metadata": {},
     "output_type": "execute_result"
    }
   ],
   "source": [
    "train_data[cat_vars].nunique()"
   ],
   "metadata": {
    "collapsed": false
   }
  },
  {
   "cell_type": "markdown",
   "source": [
    "As they are variables with a high number of different values, we will drop them to keep a dataset with a shape we can handle after One Hot Encoding."
   ],
   "metadata": {
    "collapsed": false
   }
  },
  {
   "cell_type": "code",
   "execution_count": 851,
   "outputs": [],
   "source": [
    "cols_to_drop = []\n",
    "# List columns to drop\n",
    "for col in cat_vars:\n",
    "    if train_data[col].nunique() > 200:\n",
    "        cols_to_drop.append(col)\n",
    "\n",
    "# Drop columns\n",
    "train_data.drop(columns=cols_to_drop, inplace=True)"
   ],
   "metadata": {
    "collapsed": false
   }
  },
  {
   "cell_type": "code",
   "execution_count": 852,
   "outputs": [
    {
     "data": {
      "text/plain": "   PAYMENT_DAY APPLICATION_SUBMISSION_TYPE POSTAL_ADDRESS_TYPE SEX  \\\n0                                                                    \n1            5                         Web                   1   F   \n2           15                       Carga                   1   F   \n3            5                         Web                   1   F   \n4           20                         Web                   1   F   \n5           10                         Web                   1   M   \n6           10                         NaN                   1   M   \n7           15                       Carga                   1   F   \n8           25                         Web                   1   F   \n9           15                         NaN                   1   F   \n10           5                         NaN                   1   F   \n\n   MARITAL_STATUS  QUANT_DEPENDANTS STATE_OF_BIRTH NACIONALITY  \\\n0                                                                \n1               6                 1             RN           1   \n2               2                 0             RJ           1   \n3               2                 0             RN           1   \n4               2                 0             PE           1   \n5               2                 0             RJ           1   \n6               2                 0             MG           1   \n7               2                 2             BA           1   \n8               1                 0             MG           1   \n9               1                 0             SP           1   \n10              1                 0             RS           1   \n\n   RESIDENCIAL_STATE FLAG_RESIDENCIAL_PHONE  ... COMPANY PROFESSIONAL_STATE  \\\n0                                            ...                              \n1                 RN                      Y  ...       N             NO_JOB   \n2                 RJ                      Y  ...       Y             NO_JOB   \n3                 RN                      Y  ...       N             NO_JOB   \n4                 PE                      N  ...       N             NO_JOB   \n5                 RJ                      Y  ...       N             NO_JOB   \n6                 MG                      Y  ...       Y                 MG   \n7                 BA                      Y  ...       N             NO_JOB   \n8                 SP                      N  ...       Y                 SP   \n9                 SP                      Y  ...       Y             NO_JOB   \n10                RS                      Y  ...       Y                 RS   \n\n    FLAG_PROFESSIONAL_PHONE PROFESSIONAL_PHONE_AREA_CODE  MONTHS_IN_THE_JOB  \\\n0                                                                             \n1                         N                      NO_DATA                  0   \n2                         N                      NO_DATA                  0   \n3                         N                      NO_DATA                  0   \n4                         N                      NO_DATA                  0   \n5                         N                      NO_DATA                  0   \n6                         N                      NO_DATA                  0   \n7                         N                      NO_DATA                  0   \n8                         Y                            5                  0   \n9                         N                      NO_DATA                  0   \n10                        Y                           54                  0   \n\n    PROFESSION_CODE OCCUPATION_TYPE PRODUCT AGE TARGET_LABEL_BAD=1  \n0                                                                   \n1                 9               4       1  32                  1  \n2                11               4       1  34                  1  \n3                11             NaN       1  27                  0  \n4              <NA>             NaN       1  61                  0  \n5                 9               5       1  48                  1  \n6                 9               2       2  40                  1  \n7                11               4       1  40                  1  \n8                11               2       1  28                  0  \n9                 0               2       2  31                  0  \n10                9               2       1  41                  0  \n\n[10 rows x 34 columns]",
      "text/html": "<div>\n<style scoped>\n    .dataframe tbody tr th:only-of-type {\n        vertical-align: middle;\n    }\n\n    .dataframe tbody tr th {\n        vertical-align: top;\n    }\n\n    .dataframe thead th {\n        text-align: right;\n    }\n</style>\n<table border=\"1\" class=\"dataframe\">\n  <thead>\n    <tr style=\"text-align: right;\">\n      <th></th>\n      <th>PAYMENT_DAY</th>\n      <th>APPLICATION_SUBMISSION_TYPE</th>\n      <th>POSTAL_ADDRESS_TYPE</th>\n      <th>SEX</th>\n      <th>MARITAL_STATUS</th>\n      <th>QUANT_DEPENDANTS</th>\n      <th>STATE_OF_BIRTH</th>\n      <th>NACIONALITY</th>\n      <th>RESIDENCIAL_STATE</th>\n      <th>FLAG_RESIDENCIAL_PHONE</th>\n      <th>...</th>\n      <th>COMPANY</th>\n      <th>PROFESSIONAL_STATE</th>\n      <th>FLAG_PROFESSIONAL_PHONE</th>\n      <th>PROFESSIONAL_PHONE_AREA_CODE</th>\n      <th>MONTHS_IN_THE_JOB</th>\n      <th>PROFESSION_CODE</th>\n      <th>OCCUPATION_TYPE</th>\n      <th>PRODUCT</th>\n      <th>AGE</th>\n      <th>TARGET_LABEL_BAD=1</th>\n    </tr>\n    <tr>\n      <th>0</th>\n      <th></th>\n      <th></th>\n      <th></th>\n      <th></th>\n      <th></th>\n      <th></th>\n      <th></th>\n      <th></th>\n      <th></th>\n      <th></th>\n      <th></th>\n      <th></th>\n      <th></th>\n      <th></th>\n      <th></th>\n      <th></th>\n      <th></th>\n      <th></th>\n      <th></th>\n      <th></th>\n      <th></th>\n    </tr>\n  </thead>\n  <tbody>\n    <tr>\n      <th>1</th>\n      <td>5</td>\n      <td>Web</td>\n      <td>1</td>\n      <td>F</td>\n      <td>6</td>\n      <td>1</td>\n      <td>RN</td>\n      <td>1</td>\n      <td>RN</td>\n      <td>Y</td>\n      <td>...</td>\n      <td>N</td>\n      <td>NO_JOB</td>\n      <td>N</td>\n      <td>NO_DATA</td>\n      <td>0</td>\n      <td>9</td>\n      <td>4</td>\n      <td>1</td>\n      <td>32</td>\n      <td>1</td>\n    </tr>\n    <tr>\n      <th>2</th>\n      <td>15</td>\n      <td>Carga</td>\n      <td>1</td>\n      <td>F</td>\n      <td>2</td>\n      <td>0</td>\n      <td>RJ</td>\n      <td>1</td>\n      <td>RJ</td>\n      <td>Y</td>\n      <td>...</td>\n      <td>Y</td>\n      <td>NO_JOB</td>\n      <td>N</td>\n      <td>NO_DATA</td>\n      <td>0</td>\n      <td>11</td>\n      <td>4</td>\n      <td>1</td>\n      <td>34</td>\n      <td>1</td>\n    </tr>\n    <tr>\n      <th>3</th>\n      <td>5</td>\n      <td>Web</td>\n      <td>1</td>\n      <td>F</td>\n      <td>2</td>\n      <td>0</td>\n      <td>RN</td>\n      <td>1</td>\n      <td>RN</td>\n      <td>Y</td>\n      <td>...</td>\n      <td>N</td>\n      <td>NO_JOB</td>\n      <td>N</td>\n      <td>NO_DATA</td>\n      <td>0</td>\n      <td>11</td>\n      <td>NaN</td>\n      <td>1</td>\n      <td>27</td>\n      <td>0</td>\n    </tr>\n    <tr>\n      <th>4</th>\n      <td>20</td>\n      <td>Web</td>\n      <td>1</td>\n      <td>F</td>\n      <td>2</td>\n      <td>0</td>\n      <td>PE</td>\n      <td>1</td>\n      <td>PE</td>\n      <td>N</td>\n      <td>...</td>\n      <td>N</td>\n      <td>NO_JOB</td>\n      <td>N</td>\n      <td>NO_DATA</td>\n      <td>0</td>\n      <td>&lt;NA&gt;</td>\n      <td>NaN</td>\n      <td>1</td>\n      <td>61</td>\n      <td>0</td>\n    </tr>\n    <tr>\n      <th>5</th>\n      <td>10</td>\n      <td>Web</td>\n      <td>1</td>\n      <td>M</td>\n      <td>2</td>\n      <td>0</td>\n      <td>RJ</td>\n      <td>1</td>\n      <td>RJ</td>\n      <td>Y</td>\n      <td>...</td>\n      <td>N</td>\n      <td>NO_JOB</td>\n      <td>N</td>\n      <td>NO_DATA</td>\n      <td>0</td>\n      <td>9</td>\n      <td>5</td>\n      <td>1</td>\n      <td>48</td>\n      <td>1</td>\n    </tr>\n    <tr>\n      <th>6</th>\n      <td>10</td>\n      <td>NaN</td>\n      <td>1</td>\n      <td>M</td>\n      <td>2</td>\n      <td>0</td>\n      <td>MG</td>\n      <td>1</td>\n      <td>MG</td>\n      <td>Y</td>\n      <td>...</td>\n      <td>Y</td>\n      <td>MG</td>\n      <td>N</td>\n      <td>NO_DATA</td>\n      <td>0</td>\n      <td>9</td>\n      <td>2</td>\n      <td>2</td>\n      <td>40</td>\n      <td>1</td>\n    </tr>\n    <tr>\n      <th>7</th>\n      <td>15</td>\n      <td>Carga</td>\n      <td>1</td>\n      <td>F</td>\n      <td>2</td>\n      <td>2</td>\n      <td>BA</td>\n      <td>1</td>\n      <td>BA</td>\n      <td>Y</td>\n      <td>...</td>\n      <td>N</td>\n      <td>NO_JOB</td>\n      <td>N</td>\n      <td>NO_DATA</td>\n      <td>0</td>\n      <td>11</td>\n      <td>4</td>\n      <td>1</td>\n      <td>40</td>\n      <td>1</td>\n    </tr>\n    <tr>\n      <th>8</th>\n      <td>25</td>\n      <td>Web</td>\n      <td>1</td>\n      <td>F</td>\n      <td>1</td>\n      <td>0</td>\n      <td>MG</td>\n      <td>1</td>\n      <td>SP</td>\n      <td>N</td>\n      <td>...</td>\n      <td>Y</td>\n      <td>SP</td>\n      <td>Y</td>\n      <td>5</td>\n      <td>0</td>\n      <td>11</td>\n      <td>2</td>\n      <td>1</td>\n      <td>28</td>\n      <td>0</td>\n    </tr>\n    <tr>\n      <th>9</th>\n      <td>15</td>\n      <td>NaN</td>\n      <td>1</td>\n      <td>F</td>\n      <td>1</td>\n      <td>0</td>\n      <td>SP</td>\n      <td>1</td>\n      <td>SP</td>\n      <td>Y</td>\n      <td>...</td>\n      <td>Y</td>\n      <td>NO_JOB</td>\n      <td>N</td>\n      <td>NO_DATA</td>\n      <td>0</td>\n      <td>0</td>\n      <td>2</td>\n      <td>2</td>\n      <td>31</td>\n      <td>0</td>\n    </tr>\n    <tr>\n      <th>10</th>\n      <td>5</td>\n      <td>NaN</td>\n      <td>1</td>\n      <td>F</td>\n      <td>1</td>\n      <td>0</td>\n      <td>RS</td>\n      <td>1</td>\n      <td>RS</td>\n      <td>Y</td>\n      <td>...</td>\n      <td>Y</td>\n      <td>RS</td>\n      <td>Y</td>\n      <td>54</td>\n      <td>0</td>\n      <td>9</td>\n      <td>2</td>\n      <td>1</td>\n      <td>41</td>\n      <td>0</td>\n    </tr>\n  </tbody>\n</table>\n<p>10 rows × 34 columns</p>\n</div>"
     },
     "execution_count": 852,
     "metadata": {},
     "output_type": "execute_result"
    }
   ],
   "source": [
    "# Take a look on the remaining dataframe\n",
    "train_data.head(10)"
   ],
   "metadata": {
    "collapsed": false
   }
  },
  {
   "cell_type": "code",
   "execution_count": 853,
   "outputs": [],
   "source": [
    "# Redefine the list of categorical and numerical variables\n",
    "num_vars = list(train_data._get_numeric_data().columns)\n",
    "cat_vars = list(set(train_data.columns) - set(num_vars))"
   ],
   "metadata": {
    "collapsed": false
   }
  },
  {
   "cell_type": "markdown",
   "metadata": {
    "collapsed": false
   },
   "source": [
    "Finally, we'll save the dataset into a csv file and the numerical and categorical variables lists into txt files."
   ]
  },
  {
   "cell_type": "code",
   "execution_count": 854,
   "metadata": {
    "collapsed": false
   },
   "outputs": [],
   "source": [
    "# Save the dataset\n",
    "train_data.to_csv('./preprocessed_data.csv')\n",
    "\n",
    "# Save num_vars and cat_vars lists into txt files\n",
    "with open('./numerical_features_names.txt', 'w') as f:\n",
    "    f.write('\\n'.join(num_vars))\n",
    "\n",
    "with open('./categorical_features_names.txt', 'w') as f:\n",
    "    f.write('\\n'.join(cat_vars))"
   ]
  }
 ],
 "metadata": {
  "kernelspec": {
   "display_name": "Python 3",
   "language": "python",
   "name": "python3"
  },
  "language_info": {
   "codemirror_mode": {
    "name": "ipython",
    "version": 2
   },
   "file_extension": ".py",
   "mimetype": "text/x-python",
   "name": "python",
   "nbconvert_exporter": "python",
   "pygments_lexer": "ipython2",
   "version": "2.7.6"
  }
 },
 "nbformat": 4,
 "nbformat_minor": 0
}
