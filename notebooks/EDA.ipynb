{
 "cells": [
  {
   "cell_type": "markdown",
   "source": [
    "# Exploratory Data Analysis"
   ],
   "metadata": {
    "collapsed": false
   }
  },
  {
   "cell_type": "code",
   "execution_count": 1,
   "metadata": {
    "collapsed": true
   },
   "outputs": [],
   "source": [
    "# Libraries importing\n",
    "import pandas as pd\n",
    "import numpy as np\n"
   ]
  },
  {
   "cell_type": "code",
   "execution_count": 2,
   "outputs": [
    {
     "name": "stderr",
     "output_type": "stream",
     "text": [
      "/tmp/ipykernel_1157/2386812577.py:1: DtypeWarning: Columns (51,52) have mixed types. Specify dtype option on import or set low_memory=False.\n",
      "  data = pd.read_csv('../data/PAKDD2010_Modeling_Data.txt',\n"
     ]
    }
   ],
   "source": [
    "data = pd.read_csv('../data/PAKDD2010_Modeling_Data.txt',\n",
    "                   header=None,\n",
    "                   delimiter='\\t',\n",
    "                   # on_bad_lines='warn',\n",
    "                   encoding='ISO-8859-1',\n",
    "                   index_col=0\n",
    "                   )"
   ],
   "metadata": {
    "collapsed": false
   }
  },
  {
   "cell_type": "code",
   "execution_count": 3,
   "outputs": [
    {
     "data": {
      "text/plain": "      1   2      3   4   5  6   7   8   9   10  ... 44  45 46 47 48 49  50  \\\n0                                               ...                          \n1      C   5    Web   0   1  F   6   1   0  RN  ...  0   0  0  0  1  N  32   \n2      C  15  Carga   0   1  F   2   0   0  RJ  ...  0   0  0  0  1  N  34   \n3      C   5    Web   0   1  F   2   0   0  RN  ...  0   0  0  0  1  N  27   \n4      C  20    Web   0   1  F   2   0   0  PE  ...  0   0  0  0  1  N  61   \n5      C  10    Web   0   1  M   2   0   0  RJ  ...  0   0  0  0  1  N  48   \n...   ..  ..    ...  ..  .. ..  ..  ..  ..  ..  ... ..  .. .. .. .. ..  ..   \n49996  C  10      0   0   1  F   1   2   0  RN  ...  0   0  0  0  1  N  36   \n49997  C  25      0   0   1  F   1   0   0  SP  ...  0   0  0  0  2  N  21   \n49998  C   5    Web   0   1  M   2   3   0  PR  ...  0   0  0  0  1  N  41   \n49999  C   1    Web   0   1  F   1   1   0  SP  ...  0   0  0  0  1  N  28   \n50000  C  10    Web   0   1  F   2   2   0  SP  ...  0   0  0  0  1  N  27   \n\n        51   52 53  \n0                   \n1      595  595  1  \n2      230  230  1  \n3      591  591  0  \n4      545  545  0  \n5      235  235  1  \n...    ...  ... ..  \n49996  591  591  1  \n49997  186  186  0  \n49998  715  715  0  \n49999  320  320  1  \n50000  124  124  0  \n\n[50000 rows x 53 columns]",
      "text/html": "<div>\n<style scoped>\n    .dataframe tbody tr th:only-of-type {\n        vertical-align: middle;\n    }\n\n    .dataframe tbody tr th {\n        vertical-align: top;\n    }\n\n    .dataframe thead th {\n        text-align: right;\n    }\n</style>\n<table border=\"1\" class=\"dataframe\">\n  <thead>\n    <tr style=\"text-align: right;\">\n      <th></th>\n      <th>1</th>\n      <th>2</th>\n      <th>3</th>\n      <th>4</th>\n      <th>5</th>\n      <th>6</th>\n      <th>7</th>\n      <th>8</th>\n      <th>9</th>\n      <th>10</th>\n      <th>...</th>\n      <th>44</th>\n      <th>45</th>\n      <th>46</th>\n      <th>47</th>\n      <th>48</th>\n      <th>49</th>\n      <th>50</th>\n      <th>51</th>\n      <th>52</th>\n      <th>53</th>\n    </tr>\n    <tr>\n      <th>0</th>\n      <th></th>\n      <th></th>\n      <th></th>\n      <th></th>\n      <th></th>\n      <th></th>\n      <th></th>\n      <th></th>\n      <th></th>\n      <th></th>\n      <th></th>\n      <th></th>\n      <th></th>\n      <th></th>\n      <th></th>\n      <th></th>\n      <th></th>\n      <th></th>\n      <th></th>\n      <th></th>\n      <th></th>\n    </tr>\n  </thead>\n  <tbody>\n    <tr>\n      <th>1</th>\n      <td>C</td>\n      <td>5</td>\n      <td>Web</td>\n      <td>0</td>\n      <td>1</td>\n      <td>F</td>\n      <td>6</td>\n      <td>1</td>\n      <td>0</td>\n      <td>RN</td>\n      <td>...</td>\n      <td>0</td>\n      <td>0</td>\n      <td>0</td>\n      <td>0</td>\n      <td>1</td>\n      <td>N</td>\n      <td>32</td>\n      <td>595</td>\n      <td>595</td>\n      <td>1</td>\n    </tr>\n    <tr>\n      <th>2</th>\n      <td>C</td>\n      <td>15</td>\n      <td>Carga</td>\n      <td>0</td>\n      <td>1</td>\n      <td>F</td>\n      <td>2</td>\n      <td>0</td>\n      <td>0</td>\n      <td>RJ</td>\n      <td>...</td>\n      <td>0</td>\n      <td>0</td>\n      <td>0</td>\n      <td>0</td>\n      <td>1</td>\n      <td>N</td>\n      <td>34</td>\n      <td>230</td>\n      <td>230</td>\n      <td>1</td>\n    </tr>\n    <tr>\n      <th>3</th>\n      <td>C</td>\n      <td>5</td>\n      <td>Web</td>\n      <td>0</td>\n      <td>1</td>\n      <td>F</td>\n      <td>2</td>\n      <td>0</td>\n      <td>0</td>\n      <td>RN</td>\n      <td>...</td>\n      <td>0</td>\n      <td>0</td>\n      <td>0</td>\n      <td>0</td>\n      <td>1</td>\n      <td>N</td>\n      <td>27</td>\n      <td>591</td>\n      <td>591</td>\n      <td>0</td>\n    </tr>\n    <tr>\n      <th>4</th>\n      <td>C</td>\n      <td>20</td>\n      <td>Web</td>\n      <td>0</td>\n      <td>1</td>\n      <td>F</td>\n      <td>2</td>\n      <td>0</td>\n      <td>0</td>\n      <td>PE</td>\n      <td>...</td>\n      <td>0</td>\n      <td>0</td>\n      <td>0</td>\n      <td>0</td>\n      <td>1</td>\n      <td>N</td>\n      <td>61</td>\n      <td>545</td>\n      <td>545</td>\n      <td>0</td>\n    </tr>\n    <tr>\n      <th>5</th>\n      <td>C</td>\n      <td>10</td>\n      <td>Web</td>\n      <td>0</td>\n      <td>1</td>\n      <td>M</td>\n      <td>2</td>\n      <td>0</td>\n      <td>0</td>\n      <td>RJ</td>\n      <td>...</td>\n      <td>0</td>\n      <td>0</td>\n      <td>0</td>\n      <td>0</td>\n      <td>1</td>\n      <td>N</td>\n      <td>48</td>\n      <td>235</td>\n      <td>235</td>\n      <td>1</td>\n    </tr>\n    <tr>\n      <th>...</th>\n      <td>...</td>\n      <td>...</td>\n      <td>...</td>\n      <td>...</td>\n      <td>...</td>\n      <td>...</td>\n      <td>...</td>\n      <td>...</td>\n      <td>...</td>\n      <td>...</td>\n      <td>...</td>\n      <td>...</td>\n      <td>...</td>\n      <td>...</td>\n      <td>...</td>\n      <td>...</td>\n      <td>...</td>\n      <td>...</td>\n      <td>...</td>\n      <td>...</td>\n      <td>...</td>\n    </tr>\n    <tr>\n      <th>49996</th>\n      <td>C</td>\n      <td>10</td>\n      <td>0</td>\n      <td>0</td>\n      <td>1</td>\n      <td>F</td>\n      <td>1</td>\n      <td>2</td>\n      <td>0</td>\n      <td>RN</td>\n      <td>...</td>\n      <td>0</td>\n      <td>0</td>\n      <td>0</td>\n      <td>0</td>\n      <td>1</td>\n      <td>N</td>\n      <td>36</td>\n      <td>591</td>\n      <td>591</td>\n      <td>1</td>\n    </tr>\n    <tr>\n      <th>49997</th>\n      <td>C</td>\n      <td>25</td>\n      <td>0</td>\n      <td>0</td>\n      <td>1</td>\n      <td>F</td>\n      <td>1</td>\n      <td>0</td>\n      <td>0</td>\n      <td>SP</td>\n      <td>...</td>\n      <td>0</td>\n      <td>0</td>\n      <td>0</td>\n      <td>0</td>\n      <td>2</td>\n      <td>N</td>\n      <td>21</td>\n      <td>186</td>\n      <td>186</td>\n      <td>0</td>\n    </tr>\n    <tr>\n      <th>49998</th>\n      <td>C</td>\n      <td>5</td>\n      <td>Web</td>\n      <td>0</td>\n      <td>1</td>\n      <td>M</td>\n      <td>2</td>\n      <td>3</td>\n      <td>0</td>\n      <td>PR</td>\n      <td>...</td>\n      <td>0</td>\n      <td>0</td>\n      <td>0</td>\n      <td>0</td>\n      <td>1</td>\n      <td>N</td>\n      <td>41</td>\n      <td>715</td>\n      <td>715</td>\n      <td>0</td>\n    </tr>\n    <tr>\n      <th>49999</th>\n      <td>C</td>\n      <td>1</td>\n      <td>Web</td>\n      <td>0</td>\n      <td>1</td>\n      <td>F</td>\n      <td>1</td>\n      <td>1</td>\n      <td>0</td>\n      <td>SP</td>\n      <td>...</td>\n      <td>0</td>\n      <td>0</td>\n      <td>0</td>\n      <td>0</td>\n      <td>1</td>\n      <td>N</td>\n      <td>28</td>\n      <td>320</td>\n      <td>320</td>\n      <td>1</td>\n    </tr>\n    <tr>\n      <th>50000</th>\n      <td>C</td>\n      <td>10</td>\n      <td>Web</td>\n      <td>0</td>\n      <td>1</td>\n      <td>F</td>\n      <td>2</td>\n      <td>2</td>\n      <td>0</td>\n      <td>SP</td>\n      <td>...</td>\n      <td>0</td>\n      <td>0</td>\n      <td>0</td>\n      <td>0</td>\n      <td>1</td>\n      <td>N</td>\n      <td>27</td>\n      <td>124</td>\n      <td>124</td>\n      <td>0</td>\n    </tr>\n  </tbody>\n</table>\n<p>50000 rows × 53 columns</p>\n</div>"
     },
     "execution_count": 3,
     "metadata": {},
     "output_type": "execute_result"
    }
   ],
   "source": [
    "data"
   ],
   "metadata": {
    "collapsed": false
   }
  },
  {
   "cell_type": "code",
   "execution_count": null,
   "outputs": [],
   "source": [],
   "metadata": {
    "collapsed": false
   }
  }
 ],
 "metadata": {
  "kernelspec": {
   "display_name": "Python 3",
   "language": "python",
   "name": "python3"
  },
  "language_info": {
   "codemirror_mode": {
    "name": "ipython",
    "version": 2
   },
   "file_extension": ".py",
   "mimetype": "text/x-python",
   "name": "python",
   "nbconvert_exporter": "python",
   "pygments_lexer": "ipython2",
   "version": "2.7.6"
  }
 },
 "nbformat": 4,
 "nbformat_minor": 0
}
