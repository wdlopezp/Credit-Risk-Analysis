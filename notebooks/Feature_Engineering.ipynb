{
 "cells": [
  {
   "cell_type": "markdown",
   "source": [
    "# Exploratory Data Analysis Part 2: Feature Engineering"
   ],
   "metadata": {
    "collapsed": false
   }
  },
  {
   "cell_type": "code",
   "execution_count": 7,
   "metadata": {
    "collapsed": true
   },
   "outputs": [],
   "source": [
    "\n",
    "# Libraries importing\n",
    "import os\n",
    "import joblib\n",
    "\n",
    "import numpy as np\n",
    "import pandas as pd\n",
    "from sklearn.compose import ColumnTransformer\n",
    "\n",
    "from sklearn.impute import SimpleImputer\n",
    "from sklearn.model_selection import train_test_split\n",
    "from sklearn.pipeline import Pipeline\n",
    "from sklearn.preprocessing import OneHotEncoder, StandardScaler"
   ]
  },
  {
   "cell_type": "code",
   "execution_count": 8,
   "outputs": [],
   "source": [
    "# GLOBAL CONSTANTS\n",
    "SEED = 1"
   ],
   "metadata": {
    "collapsed": false
   }
  },
  {
   "cell_type": "code",
   "execution_count": 9,
   "outputs": [
    {
     "name": "stderr",
     "output_type": "stream",
     "text": [
      "/tmp/ipykernel_1033/3461338438.py:3: DtypeWarning: Columns (34) have mixed types. Specify dtype option on import or set low_memory=False.\n",
      "  data = pd.read_csv(os.path.join('./data',\n"
     ]
    }
   ],
   "source": [
    "# Read training data\n",
    "data_dir = os.listdir('./data')[-1]\n",
    "data = pd.read_csv(os.path.join('./data',\n",
    "                                data_dir,\n",
    "                                'preprocessed_data.csv'), index_col=0)"
   ],
   "metadata": {
    "collapsed": false
   }
  },
  {
   "cell_type": "code",
   "execution_count": 10,
   "outputs": [
    {
     "data": {
      "text/plain": "    PAYMENT_DAY APPLICATION_SUBMISSION_TYPE  POSTAL_ADDRESS_TYPE SEX  \\\n0                                                                      \n1             5                         Web                    1   F   \n2            15                       Carga                    1   F   \n3             5                         Web                    1   F   \n4            20                         Web                    1   F   \n5            10                         Web                    1   M   \n6            10                         NaN                    1   M   \n7            15                       Carga                    1   F   \n8            25                         Web                    1   F   \n9            15                         NaN                    1   F   \n10            5                         NaN                    1   F   \n\n    MARITAL_STATUS  QUANT_DEPENDANTS STATE_OF_BIRTH  NACIONALITY  \\\n0                                                                  \n1              6.0                 1             RN            1   \n2              2.0                 0             RJ            1   \n3              2.0                 0             RN            1   \n4              2.0                 0             PE            1   \n5              2.0                 0             RJ            1   \n6              2.0                 0             MG            1   \n7              2.0                 2             BA            1   \n8              1.0                 0             MG            1   \n9              1.0                 0             SP            1   \n10             1.0                 0             RS            1   \n\n   RESIDENCIAL_STATE FLAG_RESIDENCIAL_PHONE  ... PROFESSIONAL_STATE  \\\n0                                            ...                      \n1                 RN                      Y  ...             NO_JOB   \n2                 RJ                      Y  ...             NO_JOB   \n3                 RN                      Y  ...             NO_JOB   \n4                 PE                      N  ...             NO_JOB   \n5                 RJ                      Y  ...             NO_JOB   \n6                 MG                      Y  ...                 MG   \n7                 BA                      Y  ...             NO_JOB   \n8                 SP                      N  ...                 SP   \n9                 SP                      Y  ...             NO_JOB   \n10                RS                      Y  ...                 RS   \n\n    FLAG_PROFESSIONAL_PHONE  PROFESSIONAL_PHONE_AREA_CODE  MONTHS_IN_THE_JOB  \\\n0                                                                              \n1                         N                       NO_DATA                  0   \n2                         N                       NO_DATA                  0   \n3                         N                       NO_DATA                  0   \n4                         N                       NO_DATA                  0   \n5                         N                       NO_DATA                  0   \n6                         N                       NO_DATA                  0   \n7                         N                       NO_DATA                  0   \n8                         Y                             5                  0   \n9                         N                       NO_DATA                  0   \n10                        Y                            54                  0   \n\n    PROFESSION_CODE  OCCUPATION_TYPE  PRODUCT  AGE  RESIDENCIAL_ZIP_3  \\\n0                                                                       \n1               9.0              4.0        1   32                595   \n2              11.0              4.0        1   34                230   \n3              11.0              NaN        1   27                591   \n4               NaN              NaN        1   61                545   \n5               9.0              5.0        1   48                235   \n6               9.0              2.0        2   40                371   \n7              11.0              4.0        1   40                413   \n8              11.0              2.0        1   28                686   \n9               0.0              2.0        2   31                172   \n10              9.0              2.0        1   41                914   \n\n    TARGET_LABEL_BAD=1  \n0                       \n1                    1  \n2                    1  \n3                    0  \n4                    0  \n5                    1  \n6                    1  \n7                    1  \n8                    0  \n9                    0  \n10                   0  \n\n[10 rows x 35 columns]",
      "text/html": "<div>\n<style scoped>\n    .dataframe tbody tr th:only-of-type {\n        vertical-align: middle;\n    }\n\n    .dataframe tbody tr th {\n        vertical-align: top;\n    }\n\n    .dataframe thead th {\n        text-align: right;\n    }\n</style>\n<table border=\"1\" class=\"dataframe\">\n  <thead>\n    <tr style=\"text-align: right;\">\n      <th></th>\n      <th>PAYMENT_DAY</th>\n      <th>APPLICATION_SUBMISSION_TYPE</th>\n      <th>POSTAL_ADDRESS_TYPE</th>\n      <th>SEX</th>\n      <th>MARITAL_STATUS</th>\n      <th>QUANT_DEPENDANTS</th>\n      <th>STATE_OF_BIRTH</th>\n      <th>NACIONALITY</th>\n      <th>RESIDENCIAL_STATE</th>\n      <th>FLAG_RESIDENCIAL_PHONE</th>\n      <th>...</th>\n      <th>PROFESSIONAL_STATE</th>\n      <th>FLAG_PROFESSIONAL_PHONE</th>\n      <th>PROFESSIONAL_PHONE_AREA_CODE</th>\n      <th>MONTHS_IN_THE_JOB</th>\n      <th>PROFESSION_CODE</th>\n      <th>OCCUPATION_TYPE</th>\n      <th>PRODUCT</th>\n      <th>AGE</th>\n      <th>RESIDENCIAL_ZIP_3</th>\n      <th>TARGET_LABEL_BAD=1</th>\n    </tr>\n    <tr>\n      <th>0</th>\n      <th></th>\n      <th></th>\n      <th></th>\n      <th></th>\n      <th></th>\n      <th></th>\n      <th></th>\n      <th></th>\n      <th></th>\n      <th></th>\n      <th></th>\n      <th></th>\n      <th></th>\n      <th></th>\n      <th></th>\n      <th></th>\n      <th></th>\n      <th></th>\n      <th></th>\n      <th></th>\n      <th></th>\n    </tr>\n  </thead>\n  <tbody>\n    <tr>\n      <th>1</th>\n      <td>5</td>\n      <td>Web</td>\n      <td>1</td>\n      <td>F</td>\n      <td>6.0</td>\n      <td>1</td>\n      <td>RN</td>\n      <td>1</td>\n      <td>RN</td>\n      <td>Y</td>\n      <td>...</td>\n      <td>NO_JOB</td>\n      <td>N</td>\n      <td>NO_DATA</td>\n      <td>0</td>\n      <td>9.0</td>\n      <td>4.0</td>\n      <td>1</td>\n      <td>32</td>\n      <td>595</td>\n      <td>1</td>\n    </tr>\n    <tr>\n      <th>2</th>\n      <td>15</td>\n      <td>Carga</td>\n      <td>1</td>\n      <td>F</td>\n      <td>2.0</td>\n      <td>0</td>\n      <td>RJ</td>\n      <td>1</td>\n      <td>RJ</td>\n      <td>Y</td>\n      <td>...</td>\n      <td>NO_JOB</td>\n      <td>N</td>\n      <td>NO_DATA</td>\n      <td>0</td>\n      <td>11.0</td>\n      <td>4.0</td>\n      <td>1</td>\n      <td>34</td>\n      <td>230</td>\n      <td>1</td>\n    </tr>\n    <tr>\n      <th>3</th>\n      <td>5</td>\n      <td>Web</td>\n      <td>1</td>\n      <td>F</td>\n      <td>2.0</td>\n      <td>0</td>\n      <td>RN</td>\n      <td>1</td>\n      <td>RN</td>\n      <td>Y</td>\n      <td>...</td>\n      <td>NO_JOB</td>\n      <td>N</td>\n      <td>NO_DATA</td>\n      <td>0</td>\n      <td>11.0</td>\n      <td>NaN</td>\n      <td>1</td>\n      <td>27</td>\n      <td>591</td>\n      <td>0</td>\n    </tr>\n    <tr>\n      <th>4</th>\n      <td>20</td>\n      <td>Web</td>\n      <td>1</td>\n      <td>F</td>\n      <td>2.0</td>\n      <td>0</td>\n      <td>PE</td>\n      <td>1</td>\n      <td>PE</td>\n      <td>N</td>\n      <td>...</td>\n      <td>NO_JOB</td>\n      <td>N</td>\n      <td>NO_DATA</td>\n      <td>0</td>\n      <td>NaN</td>\n      <td>NaN</td>\n      <td>1</td>\n      <td>61</td>\n      <td>545</td>\n      <td>0</td>\n    </tr>\n    <tr>\n      <th>5</th>\n      <td>10</td>\n      <td>Web</td>\n      <td>1</td>\n      <td>M</td>\n      <td>2.0</td>\n      <td>0</td>\n      <td>RJ</td>\n      <td>1</td>\n      <td>RJ</td>\n      <td>Y</td>\n      <td>...</td>\n      <td>NO_JOB</td>\n      <td>N</td>\n      <td>NO_DATA</td>\n      <td>0</td>\n      <td>9.0</td>\n      <td>5.0</td>\n      <td>1</td>\n      <td>48</td>\n      <td>235</td>\n      <td>1</td>\n    </tr>\n    <tr>\n      <th>6</th>\n      <td>10</td>\n      <td>NaN</td>\n      <td>1</td>\n      <td>M</td>\n      <td>2.0</td>\n      <td>0</td>\n      <td>MG</td>\n      <td>1</td>\n      <td>MG</td>\n      <td>Y</td>\n      <td>...</td>\n      <td>MG</td>\n      <td>N</td>\n      <td>NO_DATA</td>\n      <td>0</td>\n      <td>9.0</td>\n      <td>2.0</td>\n      <td>2</td>\n      <td>40</td>\n      <td>371</td>\n      <td>1</td>\n    </tr>\n    <tr>\n      <th>7</th>\n      <td>15</td>\n      <td>Carga</td>\n      <td>1</td>\n      <td>F</td>\n      <td>2.0</td>\n      <td>2</td>\n      <td>BA</td>\n      <td>1</td>\n      <td>BA</td>\n      <td>Y</td>\n      <td>...</td>\n      <td>NO_JOB</td>\n      <td>N</td>\n      <td>NO_DATA</td>\n      <td>0</td>\n      <td>11.0</td>\n      <td>4.0</td>\n      <td>1</td>\n      <td>40</td>\n      <td>413</td>\n      <td>1</td>\n    </tr>\n    <tr>\n      <th>8</th>\n      <td>25</td>\n      <td>Web</td>\n      <td>1</td>\n      <td>F</td>\n      <td>1.0</td>\n      <td>0</td>\n      <td>MG</td>\n      <td>1</td>\n      <td>SP</td>\n      <td>N</td>\n      <td>...</td>\n      <td>SP</td>\n      <td>Y</td>\n      <td>5</td>\n      <td>0</td>\n      <td>11.0</td>\n      <td>2.0</td>\n      <td>1</td>\n      <td>28</td>\n      <td>686</td>\n      <td>0</td>\n    </tr>\n    <tr>\n      <th>9</th>\n      <td>15</td>\n      <td>NaN</td>\n      <td>1</td>\n      <td>F</td>\n      <td>1.0</td>\n      <td>0</td>\n      <td>SP</td>\n      <td>1</td>\n      <td>SP</td>\n      <td>Y</td>\n      <td>...</td>\n      <td>NO_JOB</td>\n      <td>N</td>\n      <td>NO_DATA</td>\n      <td>0</td>\n      <td>0.0</td>\n      <td>2.0</td>\n      <td>2</td>\n      <td>31</td>\n      <td>172</td>\n      <td>0</td>\n    </tr>\n    <tr>\n      <th>10</th>\n      <td>5</td>\n      <td>NaN</td>\n      <td>1</td>\n      <td>F</td>\n      <td>1.0</td>\n      <td>0</td>\n      <td>RS</td>\n      <td>1</td>\n      <td>RS</td>\n      <td>Y</td>\n      <td>...</td>\n      <td>RS</td>\n      <td>Y</td>\n      <td>54</td>\n      <td>0</td>\n      <td>9.0</td>\n      <td>2.0</td>\n      <td>1</td>\n      <td>41</td>\n      <td>914</td>\n      <td>0</td>\n    </tr>\n  </tbody>\n</table>\n<p>10 rows × 35 columns</p>\n</div>"
     },
     "execution_count": 10,
     "metadata": {},
     "output_type": "execute_result"
    }
   ],
   "source": [
    "# Take a look on data inside the training dataset\n",
    "data.head(10)"
   ],
   "metadata": {
    "collapsed": false
   }
  },
  {
   "cell_type": "code",
   "execution_count": 11,
   "outputs": [
    {
     "data": {
      "text/plain": "['PAYMENT_DAY',\n 'APPLICATION_SUBMISSION_TYPE',\n 'POSTAL_ADDRESS_TYPE',\n 'SEX',\n 'MARITAL_STATUS',\n 'QUANT_DEPENDANTS',\n 'STATE_OF_BIRTH',\n 'NACIONALITY',\n 'RESIDENCIAL_STATE',\n 'FLAG_RESIDENCIAL_PHONE',\n 'RESIDENCIAL_PHONE_AREA_CODE',\n 'RESIDENCE_TYPE',\n 'MONTHS_IN_RESIDENCE',\n 'FLAG_EMAIL',\n 'PERSONAL_MONTHLY_INCOME',\n 'OTHER_INCOMES',\n 'FLAG_VISA',\n 'FLAG_MASTERCARD',\n 'FLAG_DINERS',\n 'FLAG_AMERICAN_EXPRESS',\n 'FLAG_OTHER_CARDS',\n 'QUANT_BANKING_ACCOUNTS',\n 'PERSONAL_ASSETS_VALUE',\n 'QUANT_CARS',\n 'COMPANY',\n 'PROFESSIONAL_STATE',\n 'FLAG_PROFESSIONAL_PHONE',\n 'PROFESSIONAL_PHONE_AREA_CODE',\n 'MONTHS_IN_THE_JOB',\n 'PROFESSION_CODE',\n 'OCCUPATION_TYPE',\n 'PRODUCT',\n 'AGE',\n 'RESIDENCIAL_ZIP_3',\n 'TARGET_LABEL_BAD=1']"
     },
     "execution_count": 11,
     "metadata": {},
     "output_type": "execute_result"
    }
   ],
   "source": [
    "list(data.columns)"
   ],
   "metadata": {
    "collapsed": false
   }
  },
  {
   "cell_type": "code",
   "execution_count": 12,
   "outputs": [],
   "source": [
    "# Read the numerical and categorical features txt files\n",
    "num_features = []\n",
    "with open('./numerical_features_names.txt', 'r') as f:\n",
    "    for line in f:\n",
    "        # Read line by line and append top empty list\n",
    "        num_features.append(line.split('\\n')[0])\n",
    "\n",
    "cat_features = []\n",
    "with open('./categorical_features_names.txt', 'r') as f:\n",
    "    for line in f:\n",
    "        # Read line by line and append top empty list\n",
    "        cat_features.append(line.split('\\n')[0])"
   ],
   "metadata": {
    "collapsed": false
   }
  },
  {
   "cell_type": "code",
   "execution_count": 13,
   "outputs": [],
   "source": [
    "# Convert dtypes to the right ones\n",
    "# First use suggested dtypes from pandas core\n",
    "data = data.convert_dtypes()\n",
    "# Remove Target variable from features\n",
    "cat_features.remove('TARGET_LABEL_BAD=1')\n",
    "# Then use the lists generated before\n",
    "for col in cat_features:\n",
    "    # First to string\n",
    "    data[col] = data[col].astype('string')\n",
    "    data[col] = pd.Categorical(data[col])\n",
    "\n",
    "# As Pandas could introduce pd.NA values in some features\n",
    "# when converting them to categorical, let's replace them with np.nan by casting\n",
    "# int columns to float32\n",
    "cols_to_float = data.select_dtypes(include='int').columns\n",
    "data[cols_to_float] = data[cols_to_float].astype(dtype='float32')"
   ],
   "metadata": {
    "collapsed": false
   }
  },
  {
   "cell_type": "markdown",
   "source": [
    "##Dataset Split"
   ],
   "metadata": {
    "collapsed": false
   }
  },
  {
   "cell_type": "code",
   "execution_count": 14,
   "outputs": [],
   "source": [
    "# Split data into features and label\n",
    "X, y = data.drop(columns=['TARGET_LABEL_BAD=1']), data['TARGET_LABEL_BAD=1']\n",
    "# Split dataset into Train and Test\n",
    "X_train_0, X_test, y_train_0, y_test = train_test_split(\n",
    "    X, y, test_size=0.1, random_state=SEED\n",
    ")\n",
    "# Split train datasets into train and validation datasets\n",
    "X_train, X_val, y_train, y_val = train_test_split(\n",
    "    X_train_0, y_train_0, test_size=0.1, random_state=SEED\n",
    ")"
   ],
   "metadata": {
    "collapsed": false
   }
  },
  {
   "cell_type": "code",
   "execution_count": 15,
   "outputs": [],
   "source": [
    "## Build processing pipeline\n",
    "# Create individual transformers\n",
    "num_transformer = Pipeline(\n",
    "        steps=[\n",
    "            ('imputer' , SimpleImputer(strategy='median')),\n",
    "            ('scaler'  , StandardScaler())\n",
    "        ]\n",
    ")\n",
    "\n",
    "cat_transformer = Pipeline(\n",
    "        steps=[\n",
    "            ('imputer2', SimpleImputer(missing_values=pd.NA,\n",
    "                                      strategy='most_frequent')),\n",
    "            ('encoder' , OneHotEncoder(drop='if_binary',\n",
    "                                       #dtype='int8',\n",
    "                                       handle_unknown='ignore',\n",
    "                                       sparse=False))\n",
    "        ]\n",
    ")\n",
    "\n",
    "# Ensemble all the transformers\n",
    "preprocessor = ColumnTransformer(\n",
    "        transformers=[\n",
    "            ('num' , num_transformer , num_features),\n",
    "            ('cat' , cat_transformer , cat_features)\n",
    "        ]\n",
    ")"
   ],
   "metadata": {
    "collapsed": false
   }
  },
  {
   "cell_type": "code",
   "execution_count": 16,
   "outputs": [],
   "source": [
    "data = {\n",
    "    'PAYMENT_DAY': 5,\n",
    "    'APPLICATION_SUBMISSION_TYPE': 'Web',\n",
    "    'POSTAL_ADDRESS_TYPE': 1,\n",
    "    'SEX': 'M',\n",
    "    'MARITAL_STATUS': 2,\n",
    "    'QUANT_DEPENDANTS': 4,\n",
    "    'STATE_OF_BIRTH': 'RJ',\n",
    "    'NACIONALITY': 1,\n",
    "    'RESIDENCIAL_STATE': 'RJ',\n",
    "    'FLAG_RESIDENCIAL_PHONE': 'Y',\n",
    "    'RESIDENCIAL_PHONE_AREA_CODE': ' ',\n",
    "    'RESIDENCE_TYPE': None,\n",
    "    'MONTHS_IN_RESIDENCE': 54,\n",
    "    'FLAG_EMAIL': 1,\n",
    "    'PERSONAL_MONTHLY_INCOME': 1200,\n",
    "    'OTHER_INCOMES': 0,\n",
    "    'FLAG_VISA': 1,\n",
    "    'FLAG_MASTERCARD': 0,\n",
    "    'FLAG_DINERS': 0,\n",
    "    'FLAG_AMERICAN_EXPRESS': 0,\n",
    "    'FLAG_OTHER_CARDS': 0,\n",
    "    'QUANT_BANKING_ACCOUNTS': 2,\n",
    "    'PERSONAL_ASSETS_VALUE': 0,\n",
    "    'QUANT_CARS': 1,\n",
    "    'COMPANY': 'Y',\n",
    "    'PROFESSIONAL_STATE': 'RJ',\n",
    "    'FLAG_PROFESSIONAL_PHONE': 'N',\n",
    "    'PROFESSIONAL_PHONE_AREA_CODE': 384,\n",
    "    'MONTHS_IN_THE_JOB': 40,\n",
    "    'PROFESSION_CODE': 11,\n",
    "    'OCCUPATION_TYPE': 1,\n",
    "    'PRODUCT': 2,\n",
    "    'AGE': 30,\n",
    "    'RESIDENCIAL_ZIP_3': None,\n",
    "}"
   ],
   "metadata": {
    "collapsed": false
   }
  },
  {
   "cell_type": "code",
   "execution_count": 18,
   "outputs": [
    {
     "data": {
      "text/plain": "   PAYMENT_DAY APPLICATION_SUBMISSION_TYPE  POSTAL_ADDRESS_TYPE SEX  \\\n0            5                         Web                    1   M   \n\n   MARITAL_STATUS  QUANT_DEPENDANTS STATE_OF_BIRTH  NACIONALITY  \\\n0               2                 4             RJ            1   \n\n  RESIDENCIAL_STATE FLAG_RESIDENCIAL_PHONE  ... COMPANY PROFESSIONAL_STATE  \\\n0                RJ                      Y  ...       Y                 RJ   \n\n   FLAG_PROFESSIONAL_PHONE  PROFESSIONAL_PHONE_AREA_CODE  MONTHS_IN_THE_JOB  \\\n0                        N                           384                 40   \n\n   PROFESSION_CODE  OCCUPATION_TYPE  PRODUCT  AGE  RESIDENCIAL_ZIP_3  \n0               11                1        2   30               None  \n\n[1 rows x 34 columns]",
      "text/html": "<div>\n<style scoped>\n    .dataframe tbody tr th:only-of-type {\n        vertical-align: middle;\n    }\n\n    .dataframe tbody tr th {\n        vertical-align: top;\n    }\n\n    .dataframe thead th {\n        text-align: right;\n    }\n</style>\n<table border=\"1\" class=\"dataframe\">\n  <thead>\n    <tr style=\"text-align: right;\">\n      <th></th>\n      <th>PAYMENT_DAY</th>\n      <th>APPLICATION_SUBMISSION_TYPE</th>\n      <th>POSTAL_ADDRESS_TYPE</th>\n      <th>SEX</th>\n      <th>MARITAL_STATUS</th>\n      <th>QUANT_DEPENDANTS</th>\n      <th>STATE_OF_BIRTH</th>\n      <th>NACIONALITY</th>\n      <th>RESIDENCIAL_STATE</th>\n      <th>FLAG_RESIDENCIAL_PHONE</th>\n      <th>...</th>\n      <th>COMPANY</th>\n      <th>PROFESSIONAL_STATE</th>\n      <th>FLAG_PROFESSIONAL_PHONE</th>\n      <th>PROFESSIONAL_PHONE_AREA_CODE</th>\n      <th>MONTHS_IN_THE_JOB</th>\n      <th>PROFESSION_CODE</th>\n      <th>OCCUPATION_TYPE</th>\n      <th>PRODUCT</th>\n      <th>AGE</th>\n      <th>RESIDENCIAL_ZIP_3</th>\n    </tr>\n  </thead>\n  <tbody>\n    <tr>\n      <th>0</th>\n      <td>5</td>\n      <td>Web</td>\n      <td>1</td>\n      <td>M</td>\n      <td>2</td>\n      <td>4</td>\n      <td>RJ</td>\n      <td>1</td>\n      <td>RJ</td>\n      <td>Y</td>\n      <td>...</td>\n      <td>Y</td>\n      <td>RJ</td>\n      <td>N</td>\n      <td>384</td>\n      <td>40</td>\n      <td>11</td>\n      <td>1</td>\n      <td>2</td>\n      <td>30</td>\n      <td>None</td>\n    </tr>\n  </tbody>\n</table>\n<p>1 rows × 34 columns</p>\n</div>"
     },
     "execution_count": 18,
     "metadata": {},
     "output_type": "execute_result"
    }
   ],
   "source": [
    "data_df = pd.DataFrame(data=data, index=[0])\n",
    "data_df"
   ],
   "metadata": {
    "collapsed": false
   }
  },
  {
   "cell_type": "code",
   "execution_count": 19,
   "outputs": [
    {
     "data": {
      "text/plain": "ColumnTransformer(transformers=[('num',\n                                 Pipeline(steps=[('imputer',\n                                                  SimpleImputer(strategy='median')),\n                                                 ('scaler', StandardScaler())]),\n                                 ['QUANT_DEPENDANTS', 'MONTHS_IN_RESIDENCE',\n                                  'PERSONAL_MONTHLY_INCOME', 'OTHER_INCOMES',\n                                  'PERSONAL_ASSETS_VALUE', 'QUANT_CARS',\n                                  'MONTHS_IN_THE_JOB', 'PROFESSION_CODE',\n                                  'PRODUCT', 'AGE']),\n                                ('cat',\n                                 Pipeline(steps=[('imputer2',\n                                                  SimpleIm...\n                                  'FLAG_AMERICAN_EXPRESS', 'COMPANY',\n                                  'RESIDENCIAL_STATE', 'FLAG_RESIDENCIAL_PHONE',\n                                  'RESIDENCE_TYPE', 'FLAG_DINERS',\n                                  'NACIONALITY', 'PROFESSIONAL_STATE', 'SEX',\n                                  'APPLICATION_SUBMISSION_TYPE',\n                                  'STATE_OF_BIRTH',\n                                  'RESIDENCIAL_PHONE_AREA_CODE', 'FLAG_VISA',\n                                  'OCCUPATION_TYPE', 'RESIDENCIAL_ZIP_3',\n                                  'QUANT_BANKING_ACCOUNTS',\n                                  'POSTAL_ADDRESS_TYPE',\n                                  'FLAG_PROFESSIONAL_PHONE', 'PAYMENT_DAY'])])",
      "text/html": "<style>#sk-container-id-1 {color: black;background-color: white;}#sk-container-id-1 pre{padding: 0;}#sk-container-id-1 div.sk-toggleable {background-color: white;}#sk-container-id-1 label.sk-toggleable__label {cursor: pointer;display: block;width: 100%;margin-bottom: 0;padding: 0.3em;box-sizing: border-box;text-align: center;}#sk-container-id-1 label.sk-toggleable__label-arrow:before {content: \"▸\";float: left;margin-right: 0.25em;color: #696969;}#sk-container-id-1 label.sk-toggleable__label-arrow:hover:before {color: black;}#sk-container-id-1 div.sk-estimator:hover label.sk-toggleable__label-arrow:before {color: black;}#sk-container-id-1 div.sk-toggleable__content {max-height: 0;max-width: 0;overflow: hidden;text-align: left;background-color: #f0f8ff;}#sk-container-id-1 div.sk-toggleable__content pre {margin: 0.2em;color: black;border-radius: 0.25em;background-color: #f0f8ff;}#sk-container-id-1 input.sk-toggleable__control:checked~div.sk-toggleable__content {max-height: 200px;max-width: 100%;overflow: auto;}#sk-container-id-1 input.sk-toggleable__control:checked~label.sk-toggleable__label-arrow:before {content: \"▾\";}#sk-container-id-1 div.sk-estimator input.sk-toggleable__control:checked~label.sk-toggleable__label {background-color: #d4ebff;}#sk-container-id-1 div.sk-label input.sk-toggleable__control:checked~label.sk-toggleable__label {background-color: #d4ebff;}#sk-container-id-1 input.sk-hidden--visually {border: 0;clip: rect(1px 1px 1px 1px);clip: rect(1px, 1px, 1px, 1px);height: 1px;margin: -1px;overflow: hidden;padding: 0;position: absolute;width: 1px;}#sk-container-id-1 div.sk-estimator {font-family: monospace;background-color: #f0f8ff;border: 1px dotted black;border-radius: 0.25em;box-sizing: border-box;margin-bottom: 0.5em;}#sk-container-id-1 div.sk-estimator:hover {background-color: #d4ebff;}#sk-container-id-1 div.sk-parallel-item::after {content: \"\";width: 100%;border-bottom: 1px solid gray;flex-grow: 1;}#sk-container-id-1 div.sk-label:hover label.sk-toggleable__label {background-color: #d4ebff;}#sk-container-id-1 div.sk-serial::before {content: \"\";position: absolute;border-left: 1px solid gray;box-sizing: border-box;top: 0;bottom: 0;left: 50%;z-index: 0;}#sk-container-id-1 div.sk-serial {display: flex;flex-direction: column;align-items: center;background-color: white;padding-right: 0.2em;padding-left: 0.2em;position: relative;}#sk-container-id-1 div.sk-item {position: relative;z-index: 1;}#sk-container-id-1 div.sk-parallel {display: flex;align-items: stretch;justify-content: center;background-color: white;position: relative;}#sk-container-id-1 div.sk-item::before, #sk-container-id-1 div.sk-parallel-item::before {content: \"\";position: absolute;border-left: 1px solid gray;box-sizing: border-box;top: 0;bottom: 0;left: 50%;z-index: -1;}#sk-container-id-1 div.sk-parallel-item {display: flex;flex-direction: column;z-index: 1;position: relative;background-color: white;}#sk-container-id-1 div.sk-parallel-item:first-child::after {align-self: flex-end;width: 50%;}#sk-container-id-1 div.sk-parallel-item:last-child::after {align-self: flex-start;width: 50%;}#sk-container-id-1 div.sk-parallel-item:only-child::after {width: 0;}#sk-container-id-1 div.sk-dashed-wrapped {border: 1px dashed gray;margin: 0 0.4em 0.5em 0.4em;box-sizing: border-box;padding-bottom: 0.4em;background-color: white;}#sk-container-id-1 div.sk-label label {font-family: monospace;font-weight: bold;display: inline-block;line-height: 1.2em;}#sk-container-id-1 div.sk-label-container {text-align: center;}#sk-container-id-1 div.sk-container {/* jupyter's `normalize.less` sets `[hidden] { display: none; }` but bootstrap.min.css set `[hidden] { display: none !important; }` so we also need the `!important` here to be able to override the default hidden behavior on the sphinx rendered scikit-learn.org. See: https://github.com/scikit-learn/scikit-learn/issues/21755 */display: inline-block !important;position: relative;}#sk-container-id-1 div.sk-text-repr-fallback {display: none;}</style><div id=\"sk-container-id-1\" class=\"sk-top-container\"><div class=\"sk-text-repr-fallback\"><pre>ColumnTransformer(transformers=[(&#x27;num&#x27;,\n                                 Pipeline(steps=[(&#x27;imputer&#x27;,\n                                                  SimpleImputer(strategy=&#x27;median&#x27;)),\n                                                 (&#x27;scaler&#x27;, StandardScaler())]),\n                                 [&#x27;QUANT_DEPENDANTS&#x27;, &#x27;MONTHS_IN_RESIDENCE&#x27;,\n                                  &#x27;PERSONAL_MONTHLY_INCOME&#x27;, &#x27;OTHER_INCOMES&#x27;,\n                                  &#x27;PERSONAL_ASSETS_VALUE&#x27;, &#x27;QUANT_CARS&#x27;,\n                                  &#x27;MONTHS_IN_THE_JOB&#x27;, &#x27;PROFESSION_CODE&#x27;,\n                                  &#x27;PRODUCT&#x27;, &#x27;AGE&#x27;]),\n                                (&#x27;cat&#x27;,\n                                 Pipeline(steps=[(&#x27;imputer2&#x27;,\n                                                  SimpleIm...\n                                  &#x27;FLAG_AMERICAN_EXPRESS&#x27;, &#x27;COMPANY&#x27;,\n                                  &#x27;RESIDENCIAL_STATE&#x27;, &#x27;FLAG_RESIDENCIAL_PHONE&#x27;,\n                                  &#x27;RESIDENCE_TYPE&#x27;, &#x27;FLAG_DINERS&#x27;,\n                                  &#x27;NACIONALITY&#x27;, &#x27;PROFESSIONAL_STATE&#x27;, &#x27;SEX&#x27;,\n                                  &#x27;APPLICATION_SUBMISSION_TYPE&#x27;,\n                                  &#x27;STATE_OF_BIRTH&#x27;,\n                                  &#x27;RESIDENCIAL_PHONE_AREA_CODE&#x27;, &#x27;FLAG_VISA&#x27;,\n                                  &#x27;OCCUPATION_TYPE&#x27;, &#x27;RESIDENCIAL_ZIP_3&#x27;,\n                                  &#x27;QUANT_BANKING_ACCOUNTS&#x27;,\n                                  &#x27;POSTAL_ADDRESS_TYPE&#x27;,\n                                  &#x27;FLAG_PROFESSIONAL_PHONE&#x27;, &#x27;PAYMENT_DAY&#x27;])])</pre><b>In a Jupyter environment, please rerun this cell to show the HTML representation or trust the notebook. <br />On GitHub, the HTML representation is unable to render, please try loading this page with nbviewer.org.</b></div><div class=\"sk-container\" hidden><div class=\"sk-item sk-dashed-wrapped\"><div class=\"sk-label-container\"><div class=\"sk-label sk-toggleable\"><input class=\"sk-toggleable__control sk-hidden--visually\" id=\"sk-estimator-id-1\" type=\"checkbox\" ><label for=\"sk-estimator-id-1\" class=\"sk-toggleable__label sk-toggleable__label-arrow\">ColumnTransformer</label><div class=\"sk-toggleable__content\"><pre>ColumnTransformer(transformers=[(&#x27;num&#x27;,\n                                 Pipeline(steps=[(&#x27;imputer&#x27;,\n                                                  SimpleImputer(strategy=&#x27;median&#x27;)),\n                                                 (&#x27;scaler&#x27;, StandardScaler())]),\n                                 [&#x27;QUANT_DEPENDANTS&#x27;, &#x27;MONTHS_IN_RESIDENCE&#x27;,\n                                  &#x27;PERSONAL_MONTHLY_INCOME&#x27;, &#x27;OTHER_INCOMES&#x27;,\n                                  &#x27;PERSONAL_ASSETS_VALUE&#x27;, &#x27;QUANT_CARS&#x27;,\n                                  &#x27;MONTHS_IN_THE_JOB&#x27;, &#x27;PROFESSION_CODE&#x27;,\n                                  &#x27;PRODUCT&#x27;, &#x27;AGE&#x27;]),\n                                (&#x27;cat&#x27;,\n                                 Pipeline(steps=[(&#x27;imputer2&#x27;,\n                                                  SimpleIm...\n                                  &#x27;FLAG_AMERICAN_EXPRESS&#x27;, &#x27;COMPANY&#x27;,\n                                  &#x27;RESIDENCIAL_STATE&#x27;, &#x27;FLAG_RESIDENCIAL_PHONE&#x27;,\n                                  &#x27;RESIDENCE_TYPE&#x27;, &#x27;FLAG_DINERS&#x27;,\n                                  &#x27;NACIONALITY&#x27;, &#x27;PROFESSIONAL_STATE&#x27;, &#x27;SEX&#x27;,\n                                  &#x27;APPLICATION_SUBMISSION_TYPE&#x27;,\n                                  &#x27;STATE_OF_BIRTH&#x27;,\n                                  &#x27;RESIDENCIAL_PHONE_AREA_CODE&#x27;, &#x27;FLAG_VISA&#x27;,\n                                  &#x27;OCCUPATION_TYPE&#x27;, &#x27;RESIDENCIAL_ZIP_3&#x27;,\n                                  &#x27;QUANT_BANKING_ACCOUNTS&#x27;,\n                                  &#x27;POSTAL_ADDRESS_TYPE&#x27;,\n                                  &#x27;FLAG_PROFESSIONAL_PHONE&#x27;, &#x27;PAYMENT_DAY&#x27;])])</pre></div></div></div><div class=\"sk-parallel\"><div class=\"sk-parallel-item\"><div class=\"sk-item\"><div class=\"sk-label-container\"><div class=\"sk-label sk-toggleable\"><input class=\"sk-toggleable__control sk-hidden--visually\" id=\"sk-estimator-id-2\" type=\"checkbox\" ><label for=\"sk-estimator-id-2\" class=\"sk-toggleable__label sk-toggleable__label-arrow\">num</label><div class=\"sk-toggleable__content\"><pre>[&#x27;QUANT_DEPENDANTS&#x27;, &#x27;MONTHS_IN_RESIDENCE&#x27;, &#x27;PERSONAL_MONTHLY_INCOME&#x27;, &#x27;OTHER_INCOMES&#x27;, &#x27;PERSONAL_ASSETS_VALUE&#x27;, &#x27;QUANT_CARS&#x27;, &#x27;MONTHS_IN_THE_JOB&#x27;, &#x27;PROFESSION_CODE&#x27;, &#x27;PRODUCT&#x27;, &#x27;AGE&#x27;]</pre></div></div></div><div class=\"sk-serial\"><div class=\"sk-item\"><div class=\"sk-serial\"><div class=\"sk-item\"><div class=\"sk-estimator sk-toggleable\"><input class=\"sk-toggleable__control sk-hidden--visually\" id=\"sk-estimator-id-3\" type=\"checkbox\" ><label for=\"sk-estimator-id-3\" class=\"sk-toggleable__label sk-toggleable__label-arrow\">SimpleImputer</label><div class=\"sk-toggleable__content\"><pre>SimpleImputer(strategy=&#x27;median&#x27;)</pre></div></div></div><div class=\"sk-item\"><div class=\"sk-estimator sk-toggleable\"><input class=\"sk-toggleable__control sk-hidden--visually\" id=\"sk-estimator-id-4\" type=\"checkbox\" ><label for=\"sk-estimator-id-4\" class=\"sk-toggleable__label sk-toggleable__label-arrow\">StandardScaler</label><div class=\"sk-toggleable__content\"><pre>StandardScaler()</pre></div></div></div></div></div></div></div></div><div class=\"sk-parallel-item\"><div class=\"sk-item\"><div class=\"sk-label-container\"><div class=\"sk-label sk-toggleable\"><input class=\"sk-toggleable__control sk-hidden--visually\" id=\"sk-estimator-id-5\" type=\"checkbox\" ><label for=\"sk-estimator-id-5\" class=\"sk-toggleable__label sk-toggleable__label-arrow\">cat</label><div class=\"sk-toggleable__content\"><pre>[&#x27;FLAG_OTHER_CARDS&#x27;, &#x27;FLAG_MASTERCARD&#x27;, &#x27;MARITAL_STATUS&#x27;, &#x27;FLAG_EMAIL&#x27;, &#x27;PROFESSIONAL_PHONE_AREA_CODE&#x27;, &#x27;FLAG_AMERICAN_EXPRESS&#x27;, &#x27;COMPANY&#x27;, &#x27;RESIDENCIAL_STATE&#x27;, &#x27;FLAG_RESIDENCIAL_PHONE&#x27;, &#x27;RESIDENCE_TYPE&#x27;, &#x27;FLAG_DINERS&#x27;, &#x27;NACIONALITY&#x27;, &#x27;PROFESSIONAL_STATE&#x27;, &#x27;SEX&#x27;, &#x27;APPLICATION_SUBMISSION_TYPE&#x27;, &#x27;STATE_OF_BIRTH&#x27;, &#x27;RESIDENCIAL_PHONE_AREA_CODE&#x27;, &#x27;FLAG_VISA&#x27;, &#x27;OCCUPATION_TYPE&#x27;, &#x27;RESIDENCIAL_ZIP_3&#x27;, &#x27;QUANT_BANKING_ACCOUNTS&#x27;, &#x27;POSTAL_ADDRESS_TYPE&#x27;, &#x27;FLAG_PROFESSIONAL_PHONE&#x27;, &#x27;PAYMENT_DAY&#x27;]</pre></div></div></div><div class=\"sk-serial\"><div class=\"sk-item\"><div class=\"sk-serial\"><div class=\"sk-item\"><div class=\"sk-estimator sk-toggleable\"><input class=\"sk-toggleable__control sk-hidden--visually\" id=\"sk-estimator-id-6\" type=\"checkbox\" ><label for=\"sk-estimator-id-6\" class=\"sk-toggleable__label sk-toggleable__label-arrow\">SimpleImputer</label><div class=\"sk-toggleable__content\"><pre>SimpleImputer(missing_values=&lt;NA&gt;, strategy=&#x27;most_frequent&#x27;)</pre></div></div></div><div class=\"sk-item\"><div class=\"sk-estimator sk-toggleable\"><input class=\"sk-toggleable__control sk-hidden--visually\" id=\"sk-estimator-id-7\" type=\"checkbox\" ><label for=\"sk-estimator-id-7\" class=\"sk-toggleable__label sk-toggleable__label-arrow\">OneHotEncoder</label><div class=\"sk-toggleable__content\"><pre>OneHotEncoder(drop=&#x27;if_binary&#x27;, handle_unknown=&#x27;ignore&#x27;, sparse=False)</pre></div></div></div></div></div></div></div></div></div></div></div></div>"
     },
     "execution_count": 19,
     "metadata": {},
     "output_type": "execute_result"
    }
   ],
   "source": [
    "preprocessor.fit(X=X_train)"
   ],
   "metadata": {
    "collapsed": false
   }
  },
  {
   "cell_type": "code",
   "execution_count": 20,
   "outputs": [
    {
     "name": "stderr",
     "output_type": "stream",
     "text": [
      "/home/w/AnyOne_AI/cohort-02-2022/Final_Project/Credit-Risk-Analysis/FP_env/lib/python3.10/site-packages/sklearn/preprocessing/_encoders.py:188: UserWarning: Found unknown categories in columns [0, 1, 2, 3, 4, 5, 10, 11, 16, 17, 18, 20, 21, 23] during transform. These unknown categories will be encoded as all zeros\n",
      "  warnings.warn(\n"
     ]
    },
    {
     "data": {
      "text/plain": "array([[2.80226319, 4.35637223, 0.0399927 , ..., 0.        , 0.        ,\n        0.        ]])"
     },
     "execution_count": 20,
     "metadata": {},
     "output_type": "execute_result"
    }
   ],
   "source": [
    "preprocessor.transform(X=data_df)"
   ],
   "metadata": {
    "collapsed": false
   }
  },
  {
   "cell_type": "code",
   "execution_count": 10,
   "outputs": [
    {
     "name": "stderr",
     "output_type": "stream",
     "text": [
      "/home/w/AnyOne_AI/cohort-02-2022/Final_Project/Credit-Risk-Analysis/FP_env/lib/python3.10/site-packages/sklearn/preprocessing/_encoders.py:188: UserWarning: Found unknown categories in columns [16, 19] during transform. These unknown categories will be encoded as all zeros\n",
      "  warnings.warn(\n",
      "/home/w/AnyOne_AI/cohort-02-2022/Final_Project/Credit-Risk-Analysis/FP_env/lib/python3.10/site-packages/sklearn/preprocessing/_encoders.py:188: UserWarning: Found unknown categories in columns [16, 19] during transform. These unknown categories will be encoded as all zeros\n",
      "  warnings.warn(\n",
      "/home/w/AnyOne_AI/cohort-02-2022/Final_Project/Credit-Risk-Analysis/FP_env/lib/python3.10/site-packages/sklearn/preprocessing/_encoders.py:188: UserWarning: Found unknown categories in columns [4, 16, 19] during transform. These unknown categories will be encoded as all zeros\n",
      "  warnings.warn(\n"
     ]
    }
   ],
   "source": [
    "# Use ColumnTransformer 'preprocessor' to process data\n",
    "# Train data\n",
    "X_train_pre   = preprocessor.fit_transform(X=X_train)\n",
    "X_train_0_pre = preprocessor.transform(X=X_train_0)\n",
    "# Validation data\n",
    "X_val_pre = preprocessor.transform(X=X_val)\n",
    "# Test data\n",
    "X_test_pre = preprocessor.transform(X=X_test)"
   ],
   "metadata": {
    "collapsed": false
   }
  },
  {
   "cell_type": "code",
   "execution_count": 12,
   "outputs": [
    {
     "data": {
      "text/plain": "['../model/preprocessor.pkl']"
     },
     "execution_count": 12,
     "metadata": {},
     "output_type": "execute_result"
    }
   ],
   "source": [
    "# Save preprocessor to a file\n",
    "joblib.dump(preprocessor, '../model/preprocessor.pkl')"
   ],
   "metadata": {
    "collapsed": false
   }
  },
  {
   "cell_type": "code",
   "execution_count": 14,
   "outputs": [],
   "source": [
    "preprocessor_loaded = joblib.load('../model/preprocessor.pkl')"
   ],
   "metadata": {
    "collapsed": false
   }
  },
  {
   "cell_type": "code",
   "execution_count": 16,
   "outputs": [],
   "source": [
    "var = preprocessor_loaded.transform(X=X_train)"
   ],
   "metadata": {
    "collapsed": false
   }
  },
  {
   "cell_type": "code",
   "execution_count": 25,
   "outputs": [
    {
     "data": {
      "text/plain": "(40500, 1096)"
     },
     "execution_count": 25,
     "metadata": {},
     "output_type": "execute_result"
    }
   ],
   "source": [
    "X_train_pre.shape"
   ],
   "metadata": {
    "collapsed": false
   }
  },
  {
   "cell_type": "code",
   "execution_count": 26,
   "outputs": [
    {
     "data": {
      "text/plain": "(40500, 1096)"
     },
     "execution_count": 26,
     "metadata": {},
     "output_type": "execute_result"
    }
   ],
   "source": [
    "var.shape"
   ],
   "metadata": {
    "collapsed": false
   }
  },
  {
   "cell_type": "code",
   "execution_count": null,
   "outputs": [],
   "source": [
    "# Save all datasets\n",
    "np.savetxt(os.path.join('./data',\n",
    "                        data_dir,\n",
    "                        'X_train.csv'), X_train_pre, delimiter=',')\n",
    "np.savetxt(os.path.join('./data',\n",
    "                        data_dir,\n",
    "                        'X_val.csv'), X_val_pre, delimiter=',')\n",
    "np.savetxt(os.path.join('./data',\n",
    "                        data_dir,\n",
    "                        'X_test.csv'), X_test_pre, delimiter=',')\n",
    "np.savetxt(os.path.join('./data',\n",
    "                        data_dir,\n",
    "                        'y_train.csv'), y_train, delimiter=',')\n",
    "np.savetxt(os.path.join('./data',\n",
    "                        data_dir,\n",
    "                        'y_val.csv'), y_val, delimiter=',')\n",
    "np.savetxt(os.path.join('./data',\n",
    "                        data_dir,\n",
    "                        'y_test.csv'), y_test, delimiter=',')"
   ],
   "metadata": {
    "collapsed": false
   }
  },
  {
   "cell_type": "code",
   "execution_count": 15,
   "outputs": [],
   "source": [
    "# Save features names after preprocessing\n",
    "pd.Series(preprocessor.get_feature_names_out()).to_csv(\n",
    "        os.path.join('./data',\n",
    "                     data_dir,\n",
    "                     'features_names_out.csv')\n",
    ")"
   ],
   "metadata": {
    "collapsed": false
   }
  }
 ],
 "metadata": {
  "kernelspec": {
   "display_name": "Python 3",
   "language": "python",
   "name": "python3"
  },
  "language_info": {
   "codemirror_mode": {
    "name": "ipython",
    "version": 2
   },
   "file_extension": ".py",
   "mimetype": "text/x-python",
   "name": "python",
   "nbconvert_exporter": "python",
   "pygments_lexer": "ipython2",
   "version": "2.7.6"
  }
 },
 "nbformat": 4,
 "nbformat_minor": 0
}
