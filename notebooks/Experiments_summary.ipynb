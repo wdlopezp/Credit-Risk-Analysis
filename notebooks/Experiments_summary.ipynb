{
 "cells": [
  {
   "cell_type": "code",
   "execution_count": 4,
   "metadata": {
    "collapsed": true
   },
   "outputs": [],
   "source": [
    "import os\n",
    "import json\n",
    "import pandas as pd"
   ]
  },
  {
   "cell_type": "code",
   "execution_count": 5,
   "outputs": [],
   "source": [
    "# Define empty dataframe\n",
    "results_summary = pd.DataFrame(data=[])\n",
    "\n",
    "# Read each experiment result and append to de main dataframe\n",
    "if len(os.listdir('../experiments')) > 0:\n",
    "    for exp in os.listdir('../experiments'):\n",
    "        path = os.path.join('../experiments', exp)\n",
    "        with open(os.path.join(path, 'results.json'), 'r') as file:\n",
    "            result = json.load(file)\n",
    "        # Model parameters are not relevant for this case\n",
    "        result.pop('model_params', None)\n",
    "        # Cast dictionary to dataframe to append it to main dataframe\n",
    "        result = pd.DataFrame(data=result, index=[0])\n",
    "        results_summary = pd.concat([results_summary, result])\n",
    "\n",
    "else:\n",
    "    print('There are not experiments.')"
   ],
   "metadata": {
    "collapsed": false
   }
  },
  {
   "cell_type": "code",
   "execution_count": 6,
   "outputs": [
    {
     "data": {
      "text/plain": "  model_name data_dir  val_accuracy  val_precision  val_recall  val_f1  \\\n0         rf       00        0.7307         0.4831      0.0356  0.0663   \n0    xgb_hpo       00        0.5129         0.3300      0.7891  0.4654   \n0       lgbm       00        0.6002         0.3595      0.6245  0.4563   \n0        xgb       00        0.7309         0.4934      0.0620  0.1102   \n0         rf       00        0.7307         0.4831      0.0356  0.0663   \n0   lgbm_hpo       00        0.5620         0.3409      0.6749  0.4530   \n0       lgbm       00        0.6002         0.3595      0.6245  0.4563   \n\n   val_roc_auc test_accuracy test_precision test_recall test_f1 test_roc_auc  \\\n0       0.6310             -              -           -       -            -   \n0       0.6502        0.5038         0.3118      0.7835  0.4461        0.648   \n0       0.6556             -              -           -       -            -   \n0       0.6415             -              -           -       -            -   \n0       0.6310             -              -           -       -            -   \n0       0.6344        0.5548         0.3224      0.6769  0.4367       0.6317   \n0       0.6556             -              -           -       -            -   \n\n   training_time  val_pred_time test_pred_time  \n0         5.9763         0.1158              -  \n0      2072.3967         0.0146         0.0212  \n0         0.4721         0.0067              -  \n0         2.5954         0.0313              -  \n0         5.3059         0.1179              -  \n0       466.0463         0.0092         0.0142  \n0         4.5177         0.0123              -  ",
      "text/html": "<div>\n<style scoped>\n    .dataframe tbody tr th:only-of-type {\n        vertical-align: middle;\n    }\n\n    .dataframe tbody tr th {\n        vertical-align: top;\n    }\n\n    .dataframe thead th {\n        text-align: right;\n    }\n</style>\n<table border=\"1\" class=\"dataframe\">\n  <thead>\n    <tr style=\"text-align: right;\">\n      <th></th>\n      <th>model_name</th>\n      <th>data_dir</th>\n      <th>val_accuracy</th>\n      <th>val_precision</th>\n      <th>val_recall</th>\n      <th>val_f1</th>\n      <th>val_roc_auc</th>\n      <th>test_accuracy</th>\n      <th>test_precision</th>\n      <th>test_recall</th>\n      <th>test_f1</th>\n      <th>test_roc_auc</th>\n      <th>training_time</th>\n      <th>val_pred_time</th>\n      <th>test_pred_time</th>\n    </tr>\n  </thead>\n  <tbody>\n    <tr>\n      <th>0</th>\n      <td>rf</td>\n      <td>00</td>\n      <td>0.7307</td>\n      <td>0.4831</td>\n      <td>0.0356</td>\n      <td>0.0663</td>\n      <td>0.6310</td>\n      <td>-</td>\n      <td>-</td>\n      <td>-</td>\n      <td>-</td>\n      <td>-</td>\n      <td>5.9763</td>\n      <td>0.1158</td>\n      <td>-</td>\n    </tr>\n    <tr>\n      <th>0</th>\n      <td>xgb_hpo</td>\n      <td>00</td>\n      <td>0.5129</td>\n      <td>0.3300</td>\n      <td>0.7891</td>\n      <td>0.4654</td>\n      <td>0.6502</td>\n      <td>0.5038</td>\n      <td>0.3118</td>\n      <td>0.7835</td>\n      <td>0.4461</td>\n      <td>0.648</td>\n      <td>2072.3967</td>\n      <td>0.0146</td>\n      <td>0.0212</td>\n    </tr>\n    <tr>\n      <th>0</th>\n      <td>lgbm</td>\n      <td>00</td>\n      <td>0.6002</td>\n      <td>0.3595</td>\n      <td>0.6245</td>\n      <td>0.4563</td>\n      <td>0.6556</td>\n      <td>-</td>\n      <td>-</td>\n      <td>-</td>\n      <td>-</td>\n      <td>-</td>\n      <td>0.4721</td>\n      <td>0.0067</td>\n      <td>-</td>\n    </tr>\n    <tr>\n      <th>0</th>\n      <td>xgb</td>\n      <td>00</td>\n      <td>0.7309</td>\n      <td>0.4934</td>\n      <td>0.0620</td>\n      <td>0.1102</td>\n      <td>0.6415</td>\n      <td>-</td>\n      <td>-</td>\n      <td>-</td>\n      <td>-</td>\n      <td>-</td>\n      <td>2.5954</td>\n      <td>0.0313</td>\n      <td>-</td>\n    </tr>\n    <tr>\n      <th>0</th>\n      <td>rf</td>\n      <td>00</td>\n      <td>0.7307</td>\n      <td>0.4831</td>\n      <td>0.0356</td>\n      <td>0.0663</td>\n      <td>0.6310</td>\n      <td>-</td>\n      <td>-</td>\n      <td>-</td>\n      <td>-</td>\n      <td>-</td>\n      <td>5.3059</td>\n      <td>0.1179</td>\n      <td>-</td>\n    </tr>\n    <tr>\n      <th>0</th>\n      <td>lgbm_hpo</td>\n      <td>00</td>\n      <td>0.5620</td>\n      <td>0.3409</td>\n      <td>0.6749</td>\n      <td>0.4530</td>\n      <td>0.6344</td>\n      <td>0.5548</td>\n      <td>0.3224</td>\n      <td>0.6769</td>\n      <td>0.4367</td>\n      <td>0.6317</td>\n      <td>466.0463</td>\n      <td>0.0092</td>\n      <td>0.0142</td>\n    </tr>\n    <tr>\n      <th>0</th>\n      <td>lgbm</td>\n      <td>00</td>\n      <td>0.6002</td>\n      <td>0.3595</td>\n      <td>0.6245</td>\n      <td>0.4563</td>\n      <td>0.6556</td>\n      <td>-</td>\n      <td>-</td>\n      <td>-</td>\n      <td>-</td>\n      <td>-</td>\n      <td>4.5177</td>\n      <td>0.0123</td>\n      <td>-</td>\n    </tr>\n  </tbody>\n</table>\n</div>"
     },
     "execution_count": 6,
     "metadata": {},
     "output_type": "execute_result"
    }
   ],
   "source": [
    "results_summary"
   ],
   "metadata": {
    "collapsed": false
   }
  }
 ],
 "metadata": {
  "kernelspec": {
   "display_name": "Python 3",
   "language": "python",
   "name": "python3"
  },
  "language_info": {
   "codemirror_mode": {
    "name": "ipython",
    "version": 2
   },
   "file_extension": ".py",
   "mimetype": "text/x-python",
   "name": "python",
   "nbconvert_exporter": "python",
   "pygments_lexer": "ipython2",
   "version": "2.7.6"
  }
 },
 "nbformat": 4,
 "nbformat_minor": 0
}
